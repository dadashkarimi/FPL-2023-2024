{
 "cells": [
  {
   "cell_type": "markdown",
   "metadata": {
    "colab_type": "text",
    "id": "view-in-github"
   },
   "source": [
    "<a href=\"https://colab.research.google.com/github/saheedniyi02/fpl-ai/blob/master/train_model.ipynb\" target=\"_parent\"><img src=\"https://colab.research.google.com/assets/colab-badge.svg\" alt=\"Open In Colab\"/></a>"
   ]
  },
  {
   "cell_type": "code",
   "execution_count": 1,
   "metadata": {
    "id": "raKucNuxIcQd"
   },
   "outputs": [],
   "source": [
    "def replace_spaces_with_underscore(column_list):\n",
    "    return [col.replace(' ', '_') for col in column_list]\n",
    "\n",
    "# Applying the transformation to the existing lists\n",
    "\n",
    "\n",
    "forward_statistics =['value', 'was_home', 'last_season_position', 'percent_value',\n",
    "       'position rank', 'goals_scored_ex', 'assists_ex', 'total_points_ex',\n",
    "       'minutes_ex', 'goals_conceded_ex', 'creativity_ex', 'influence_ex',\n",
    "       'threat_ex', 'bonus_ex', 'bps_ex', 'ict_index_ex', 'now_cost_ex', 'GW', 'opponent_last_season_position',\n",
    "        'mean assists 3','mean bonus 3', 'mean bps 3','mean creativity 3', 'mean goals_scored 3',\n",
    "       'mean ict_index 3', 'mean influence 3', 'mean minutes 3', 'mean penalties_missed 3',  'mean threat 3',\n",
    "       'mean total_points 3','mean value 3', 'mean match_result 3', 'std bps 3', 'std creativity 3',\n",
    "       'std ict_index 3', 'std influence 3', 'std minutes 3',\n",
    "       'std threat 3', 'std total_points 3', 'std value 3']\n",
    "\n",
    "leak_columns = [\n",
    "    \"name\",\n",
    "    \"team\",\n",
    "]  # columns that shouldnt be used in training fir fear of data leakage\n",
    "\n",
    "\n",
    "dropped_columns = [\n",
    "    \"season\",\n",
    "    \"opponent\",\n",
    "    \"match_result\",\n",
    "   # \"position\",\n",
    "    \"assists\",\n",
    "    \"penalties_missed\",\n",
    "    \"bonus\",\n",
    "    \"bps\",\n",
    "    \"clean_sheets\",\n",
    "    \"creativity\",\n",
    "    \"goals_conceded\",\n",
    "    \"goals_scored\",\n",
    "    \"ict_index\",\n",
    "    \"influence\",\n",
    "    \"own_goals\",\n",
    "    \"penalties_saved\",\n",
    "    \"red_cards\",\n",
    "    \"saves\",\n",
    "    \"selected\",\n",
    "    \"threat\",\n",
    "    \"transfers_balance\",\n",
    "    \"transfers_in\",\n",
    "    \"transfers_out\",\n",
    "    \"yellow_cards\"\n",
    "]  # \"value\",\n",
    "\n",
    "midfielder_statistics =['value', 'was_home', 'last_season_position', 'percent_value',\n",
    "       'position rank', 'goals_scored_ex', 'assists_ex', 'total_points_ex',\n",
    "       'minutes_ex', 'goals_conceded_ex', 'creativity_ex', 'influence_ex',\n",
    "       'threat_ex', 'bonus_ex', 'bps_ex', 'ict_index_ex', 'now_cost_ex', 'GW', 'opponent_last_season_position',\n",
    "        'mean assists 3','mean bonus 3', 'mean bps 3','mean creativity 3', 'mean goals_scored 3',\n",
    "       'mean ict_index 3', 'mean influence 3', 'mean minutes 3', 'mean penalties_missed 3',  'mean threat 3',\n",
    "       'mean total_points 3','mean value 3', 'mean match_result 3', 'std bps 3', 'std creativity 3',\n",
    "       'std ict_index 3', 'std influence 3', 'std minutes 3',\n",
    "       'std threat 3', 'std total_points 3', 'std value 3']\n",
    "\n",
    "goalkeeper_statistics = ['value', 'was_home', 'last_season_position', 'percent_value',\n",
    "       'position rank', 'total_points_ex', 'minutes_ex', 'goals_conceded_ex',\n",
    "       'bonus_ex', 'bps_ex', 'ict_index_ex', 'clean_sheets_ex',\n",
    "       'red_cards_ex', 'now_cost_ex', 'GW', 'opponent_last_season_position',\n",
    "       'mean bonus 3', 'mean bps 3', 'mean clean_sheets 3', 'mean goals_conceded 3',\n",
    "       'mean ict_index 3',  'mean minutes 3',\n",
    "       'mean own_goals 3',  'mean penalties_saved 3',\n",
    "        'mean saves 3',  'mean threat 3',\n",
    "       'mean total_points 3',\n",
    "       'mean value 3', 'mean match_result 3', 'std bps 3',\n",
    "       'std ict_index 3', 'std influence 3', 'std minutes 3',\n",
    "       'std threat 3', 'std total_points 3', 'std value 3']\n",
    "\n",
    "statistics =['value', 'position','was_home', 'last_season_position', 'percent_value',\n",
    "       'position rank', 'goals_scored_ex', 'assists_ex', 'total_points_ex',\n",
    "       'minutes_ex', 'goals_conceded_ex', 'creativity_ex', 'influence_ex',\n",
    "       'threat_ex', 'bonus_ex', 'bps_ex', 'ict_index_ex', 'clean_sheets_ex',\n",
    "       'yellow_cards_ex','now_cost_ex', 'GW', 'opponent_last_season_position', 'mean assists 3',\n",
    "       'mean bonus 3', 'mean bps 3', 'mean clean_sheets 3',\n",
    "       'mean creativity 3', 'mean goals_conceded 3', 'mean goals_scored 3',\n",
    "       'mean ict_index 3', 'mean influence 3', 'mean minutes 3',\n",
    "       'mean own_goals 3',\n",
    "       'mean red_cards 3',  'mean threat 3','mean total_points 3',\n",
    "       'mean value 3', 'mean match_result 3', 'std bps 3', 'std creativity 3',\n",
    "       'std ict_index 3', 'std influence 3', 'std minutes 3',\n",
    "       'std threat 3', 'std total_points 3', 'std value 3','mean saves 3',\"mean assists all\",\n",
    "       'mean bonus all', 'mean bps all', 'mean clean_sheets all',\n",
    "       'mean creativity all', 'mean goals_conceded all', 'mean goals_scored all',\n",
    "       'mean ict_index all', 'mean influence all', 'mean minutes all',\n",
    "       'mean own_goals all',\n",
    "       'mean red_cards all',  'mean threat all','mean total_points all',\n",
    "       'mean value all', 'mean match_result all',\n",
    "       'mean team Goal scored 3','mean team Goal scored all','mean team Goal conceded 3','mean team Goal conceded all',\"ratio_goal_scored all\",\"ratio_goal_scored 3\",\n",
    "       'opp mean team Goal scored 3','opp mean team Goal conceded 3','opp mean team Goal scored all','opp mean team Goal conceded all',\"opp mean match_result all\"]\n",
    "\n",
    "\n",
    "forward_statistics = replace_spaces_with_underscore(forward_statistics)\n",
    "midfielder_statistics = replace_spaces_with_underscore(midfielder_statistics)\n",
    "goalkeeper_statistics = replace_spaces_with_underscore(goalkeeper_statistics)\n",
    "statistics = replace_spaces_with_underscore(statistics)\n",
    "\n",
    "# statistics = replace_spaces_with_underscore(statistics)\n",
    "\n",
    "date_cols=[\"day_of_week\",\"month\",\"hour\",\"week\"]\n",
    "\n"
   ]
  },
  {
   "cell_type": "code",
   "execution_count": 2,
   "metadata": {
    "id": "n42gWU8iME6S"
   },
   "outputs": [],
   "source": [
    "def convert_minutes(val):\n",
    "    \"\"\"CONVERTS MINUTES TO A CATEGORICAL OUTPUT\"\"\"\n",
    "    if val > 10:\n",
    "        return 1\n",
    "    else:\n",
    "        return 0\n",
    "gameweek=18"
   ]
  },
  {
   "cell_type": "code",
   "execution_count": 3,
   "metadata": {
    "colab": {
     "base_uri": "https://localhost:8080/"
    },
    "id": "_NfkZfXAnuRr",
    "outputId": "96fd14fb-21c0-4318-a883-589d7915a124"
   },
   "outputs": [],
   "source": [
    "# !pip install catboost\n",
    "# !pip install hyperopt\n",
    "# !pip install lightgbm"
   ]
  },
  {
   "cell_type": "code",
   "execution_count": 4,
   "metadata": {
    "id": "4fUTYkPMKCnU"
   },
   "outputs": [],
   "source": [
    "from hyperopt import tpe,hp,fmin,STATUS_OK,Trials\n",
    "from hyperopt.pyll.base import scope"
   ]
  },
  {
   "cell_type": "code",
   "execution_count": 5,
   "metadata": {
    "id": "_x6NGUGwIo3O"
   },
   "outputs": [],
   "source": [
    "import pandas as pd\n",
    "import numpy as np\n",
    "import warnings\n",
    "import os\n",
    "\n",
    "\n",
    "warnings.filterwarnings(\"ignore\")\n",
    "from sklearn.model_selection import train_test_split\n",
    "from sklearn.pipeline import Pipeline\n",
    "from sklearn.ensemble import (\n",
    "    RandomForestClassifier,\n",
    "    RandomForestRegressor,\n",
    "    GradientBoostingRegressor,\n",
    ")\n",
    "from sklearn.preprocessing import StandardScaler, RobustScaler, MinMaxScaler\n",
    "from sklearn.impute import SimpleImputer\n",
    "from sklearn.linear_model import LinearRegression, Lasso, Ridge\n",
    "from sklearn.metrics import (\n",
    "    mean_squared_error,\n",
    "    mean_absolute_error,\n",
    "    confusion_matrix,\n",
    "    accuracy_score,\n",
    "    f1_score,\n",
    ")\n",
    "from lightgbm import LGBMRegressor, LGBMClassifier\n",
    "from catboost import CatBoostClassifier, CatBoostRegressor\n",
    "from sklearn.model_selection import StratifiedKFold,KFold"
   ]
  },
  {
   "cell_type": "code",
   "execution_count": null,
   "metadata": {
    "id": "NLHG8cabKXAo"
   },
   "outputs": [],
   "source": []
  },
  {
   "cell_type": "code",
   "execution_count": 6,
   "metadata": {
    "id": "KAEVPF2eKiR2"
   },
   "outputs": [],
   "source": [
    "train = pd.read_csv(\"cleaned_dataset/cleaned_previous_seasons.csv\",header=0,index_col=0)#/content/drive/MyDrive/Fplpredict /cleaned_previous_seasons.csv\", index_col=0)\n",
    "# train.columns = train.columns.str.strip()\n",
    "train.columns = replace_spaces_with_underscore(train.columns.tolist())\n",
    "\n",
    "old_gameweek_cleaned = []\n",
    "for i in range(1, gameweek):\n",
    "    # old_gameweek_cleaned.append(pd.read_csv(f\"cleaned_dataset/2023-24/GW{i}.csv\"))\n",
    "    df = pd.read_csv(f\"cleaned_dataset/2023-24/GW{i}.csv\")\n",
    "    # Replace spaces with underscores in column names\n",
    "    df.columns = df.columns.str.replace(' ', '_')\n",
    "    old_gameweek_cleaned.append(df)\n",
    "\n",
    "old_gameweeks = pd.concat(old_gameweek_cleaned)[train.columns]\n",
    "train = pd.concat([train, old_gameweeks])\n",
    "\n",
    "# data for current gameweek we want to predict on\n",
    "test = pd.read_csv(f\"cleaned_dataset/2023-24/GW{gameweek}.csv\", header=0,index_col=0)\n",
    "# test.columns = test.columns.str.strip()\n",
    "test.columns = replace_spaces_with_underscore(test.columns.tolist())\n"
   ]
  },
  {
   "cell_type": "code",
   "execution_count": 7,
   "metadata": {
    "colab": {
     "base_uri": "https://localhost:8080/"
    },
    "id": "ldHF-c7SKu67",
    "outputId": "f373d7e3-511c-4a51-a5c1-a0d38983d2e9"
   },
   "outputs": [
    {
     "name": "stdout",
     "output_type": "stream",
     "text": [
      "Folder predicted_dataset/GW18 already exists\n"
     ]
    }
   ],
   "source": [
    "#CREATE GAMEWEEK PREDICTIONS FOLDER\n",
    "path = f\"predicted_dataset/GW{gameweek}\"\n",
    "\n",
    "# create new single directory\n",
    "# check whether directory already exists\n",
    "if not os.path.exists(path):\n",
    "    os.mkdir(path)\n",
    "    print(\"Folder %s created!\" % path)\n",
    "else:\n",
    "    print(\"Folder %s already exists\" % path)\n",
    "\n",
    "# data from current season but previous gameweeks"
   ]
  },
  {
   "cell_type": "code",
   "execution_count": 8,
   "metadata": {
    "colab": {
     "base_uri": "https://localhost:8080/"
    },
    "id": "lGLtePuRjy7Y",
    "outputId": "64fa7c9e-daa3-45c6-c5df-8947ba4706f5"
   },
   "outputs": [],
   "source": [
    "# # train[\"position\"].value_counts()\n",
    "# # print(test['kickoff_time'])\n",
    "# print(test.keys().tolist())\n",
    "# print(train.keys().tolist())"
   ]
  },
  {
   "cell_type": "code",
   "execution_count": null,
   "metadata": {
    "id": "bsJ6_Ruej9Gl"
   },
   "outputs": [],
   "source": []
  },
  {
   "cell_type": "code",
   "execution_count": 9,
   "metadata": {},
   "outputs": [],
   "source": [
    "# train.keys\n",
    "# print(train.keys().tolist())\n",
    "# print(test.shape)\n",
    "# date_cols\n",
    "# print(train.keys().tolist())\n",
    "# train[\"index\"] = train[\"name\"] + train['kickoff_time'].astype(\"str\")\n"
   ]
  },
  {
   "cell_type": "code",
   "execution_count": 10,
   "metadata": {
    "id": "L5DlE5tLsWo8"
   },
   "outputs": [],
   "source": [
    "def filter_existing_columns(df, columns):\n",
    "    return [col for col in columns if col in df.columns]\n",
    "\n",
    "train[\"position\"]=train[\"position\"].replace({\"GKP\":\"GK\" })\n",
    "\n",
    "test = test[train.columns]\n",
    "train_copy = train.copy()\n",
    "test_copy = test.copy()\n",
    "\n",
    "# predict points\n",
    "train[\"index\"] = train[\"name\"] + train['kickoff_time'].astype(\"str\")\n",
    "train.drop_duplicates(\"index\", keep=\"last\", inplace=True)\n",
    "train= train.set_index(\"index\")\n",
    "train[\"date\"]=pd.to_datetime(train['kickoff_time'])\n",
    "train[\"day_of_week\"]=train[\"date\"].dt.day_name\n",
    "train[\"month\"]=train[\"date\"].dt.month\n",
    "train[\"hour\"]=train[\"date\"].dt.hour\n",
    "train[\"week\"]=train[\"date\"].dt.week\n",
    "train.drop(['kickoff_time',\"date\"], axis=1, inplace=True)\n",
    "\n",
    "test[\"index\"] = test[\"name\"] + test['kickoff_time'].astype(\"str\")\n",
    "test = test.set_index(\"index\")\n",
    "test[\"date\"]=pd.to_datetime(test['kickoff_time'])\n",
    "test[\"day_of_week\"]=test[\"date\"].dt.day_name\n",
    "test[\"month\"]=test[\"date\"].dt.month\n",
    "test[\"hour\"]=test[\"date\"].dt.hour\n",
    "test[\"week\"]=test[\"date\"].dt.week\n",
    "test.drop(['kickoff_time',\"date\"], axis=1, inplace=True)\n",
    "\n",
    "target = train[[\"total_points\", \"GW\",\"position\" ]]\n",
    "train.drop([\"total_points\", \"minutes\"], axis=1, inplace=True)\n",
    "test.drop([\"total_points\", \"minutes\"], axis=1, inplace=True)\n",
    "train.drop(dropped_columns, axis=1, inplace=True)\n",
    "test.drop(dropped_columns, axis=1, inplace=True)\n",
    "\n",
    "\n",
    "for col in train.columns:\n",
    "    if train[col].dtype == \"object\":\n",
    "        if col not in [\"team\", \"name\",\"position\"]:\n",
    "            train[col] = pd.factorize(train[col])[0]\n",
    "            test[col] = pd.factorize(test[col])[0]\n",
    "\n",
    "train[\"position\"]=train[\"position\"].astype(\"category\")\n",
    "test[\"position\"]=test[\"position\"].astype(\"category\")\n",
    "train[\"was_home\"] = train[\"was_home\"].replace({True: 0, False: 1})\n",
    "test[\"was_home\"] = test[\"was_home\"].replace({True: 0, False: 1})\n",
    "\n",
    "\n",
    "selected_columns = statistics + leak_columns + date_cols\n",
    "selected_columns_filtered = filter_existing_columns(train, selected_columns)\n",
    "train = train[selected_columns_filtered]\n",
    "test = test[selected_columns_filtered]\n",
    "\n",
    "# train = train[statistics + leak_columns+date_cols]\n",
    "# test= test[statistics + leak_columns+date_cols]\n",
    "\n",
    "x, val, y, y_val = train_test_split(\n",
    "    train.drop(leak_columns, axis=1),\n",
    "    target[\"total_points\"],\n",
    "    test_size=0.1,\n",
    "    random_state=0,\n",
    ")"
   ]
  },
  {
   "cell_type": "code",
   "execution_count": 11,
   "metadata": {
    "colab": {
     "base_uri": "https://localhost:8080/"
    },
    "id": "xNZGBu2FhgFj",
    "outputId": "c2370e4b-a4cd-4551-b96a-a837458b120d"
   },
   "outputs": [
    {
     "name": "stdout",
     "output_type": "stream",
     "text": [
      "1\n",
      "(87173, 53)\n",
      "(765, 53)\n",
      "2\n",
      "(87173, 53)\n",
      "(765, 53)\n",
      "3\n",
      "(87173, 53)\n",
      "(765, 53)\n",
      "4\n",
      "(87173, 53)\n",
      "(765, 53)\n",
      "5\n",
      "(87173, 53)\n",
      "(765, 53)\n",
      "6\n",
      "(87173, 53)\n",
      "(765, 53)\n",
      "7\n",
      "(87173, 53)\n",
      "(765, 53)\n",
      "8\n",
      "(87173, 53)\n",
      "(765, 53)\n",
      "[2.047232002103858, 2.011652259986193, 1.9836505455013629, 2.0230554633274997, 2.0419835878002073, 2.0438803017893847, 2.001597484017301, 2.063234231503856]\n",
      "[1.7785772043744625, 1.7726615475199345, 1.7878230250854776, 1.6425816781015956, 1.7651873140531291, 1.7684985264298267, 1.7425485384913533, 1.676864447443678]\n"
     ]
    }
   ],
   "source": [
    "from sklearn.model_selection import KFold\n",
    "\n",
    "#cross_validator to splite the data into folds\n",
    "folds=KFold(n_splits=8,shuffle=True,random_state=0)\n",
    "\n",
    "#a dataframe to store the predictions made by each fold\n",
    "predictions_df=pd.DataFrame()\n",
    "\n",
    "#list to save the mean absolute errors from validatingon each folds\n",
    "rmse_val=[]\n",
    "rmse_X=[]\n",
    "\n",
    "#a simple catboost regressor\n",
    "model=LGBMRegressor(**{'colsample_bytree': 0.4199299182268318, 'learning_rate': 0.0032874466037521254, 'max_depth': 9, 'min_split_gain': 0.5685369160138952, 'num_leaves': 99, 'reg_alpha': 0.5621526419488447, 'reg_lambda': 0, 'subsample': 0.6534153111773866}, verbose=-50,random_state=0,early_stopping_rounds=200,n_estimators=10000)\n",
    "\n",
    "#train model, make predictions and check the validation accuracy on  each fold\n",
    "for i,(train_index,test_index) in enumerate(folds.split(train.drop(leak_columns, axis=1),target[\"total_points\"])):\n",
    "    train_fold=train.drop(leak_columns, axis=1).iloc[train_index]\n",
    "    val_fold=train.drop(leak_columns, axis=1).iloc[test_index]\n",
    "    y_fold=target[\"total_points\"].iloc[train_index]\n",
    "    y_val_fold=target[\"total_points\"].iloc[test_index]\n",
    "\n",
    "\n",
    "    model.fit(train_fold,y_fold,eval_set=[(val_fold,y_val_fold)])\n",
    "    print(i+1)\n",
    "    print(train.shape)\n",
    "    print(test.shape)\n",
    "    prediction=model.predict(test.drop(leak_columns, axis=1))\n",
    "    predictions_df[i]=prediction\n",
    "    rmse_val.append(mean_squared_error(model.predict(val_fold),y_val_fold,squared=False))\n",
    "    rmse_X.append(mean_squared_error(model.predict(train_fold),y_fold,squared=False))\n",
    "print(rmse_val)\n",
    "print(rmse_X)"
   ]
  },
  {
   "cell_type": "code",
   "execution_count": 12,
   "metadata": {
    "colab": {
     "base_uri": "https://localhost:8080/"
    },
    "id": "R6NBjO7yzPOT",
    "outputId": "aba2700f-3bf3-4d76-b98c-d83f602aba81"
   },
   "outputs": [
    {
     "name": "stdout",
     "output_type": "stream",
     "text": [
      "2.0270357345037078\n",
      "1.741842785187432\n"
     ]
    }
   ],
   "source": [
    "# print(train.keys().tolist())\n",
    "# print(test.keys().tolist())\n",
    "\n",
    "print(np.mean(rmse_val))\n",
    "print(np.mean(rmse_X))\n",
    "#2.7575293874474336\n",
    "#2.0174134721607295"
   ]
  },
  {
   "cell_type": "markdown",
   "metadata": {
    "id": "475Nb44Amx4V"
   },
   "source": [
    "2.7320675301713573\n",
    "1.6917027774360753"
   ]
  },
  {
   "cell_type": "code",
   "execution_count": 14,
   "metadata": {
    "colab": {
     "base_uri": "https://localhost:8080/"
    },
    "id": "-kDj3_xeq8Ia",
    "outputId": "be804606-b981-46e4-e9b3-2d50216e1b75"
   },
   "outputs": [],
   "source": [
    "# print(train.keys)"
   ]
  },
  {
   "cell_type": "code",
   "execution_count": 13,
   "metadata": {
    "id": "W_b08Rfnp76c"
   },
   "outputs": [],
   "source": [
    "test[\"points\"]=np.mean(predictions_df, axis=1).values\n",
    "\n",
    "test[leak_columns + [\"points\", \"value\"]].sort_values(\n",
    "    \"points\", ascending=False\n",
    ").to_csv(\"points.csv\")"
   ]
  },
  {
   "cell_type": "code",
   "execution_count": 14,
   "metadata": {
    "colab": {
     "base_uri": "https://localhost:8080/",
     "height": 425
    },
    "id": "g-ibL8BVAR2e",
    "outputId": "c58bf3f6-fd8b-4fa9-8505-8047b5417e6e"
   },
   "outputs": [
    {
     "data": {
      "text/html": [
       "<div>\n",
       "<style scoped>\n",
       "    .dataframe tbody tr th:only-of-type {\n",
       "        vertical-align: middle;\n",
       "    }\n",
       "\n",
       "    .dataframe tbody tr th {\n",
       "        vertical-align: top;\n",
       "    }\n",
       "\n",
       "    .dataframe thead th {\n",
       "        text-align: right;\n",
       "    }\n",
       "</style>\n",
       "<table border=\"1\" class=\"dataframe\">\n",
       "  <thead>\n",
       "    <tr style=\"text-align: right;\">\n",
       "      <th></th>\n",
       "      <th>name</th>\n",
       "      <th>points</th>\n",
       "      <th>team</th>\n",
       "    </tr>\n",
       "    <tr>\n",
       "      <th>index</th>\n",
       "      <th></th>\n",
       "      <th></th>\n",
       "      <th></th>\n",
       "    </tr>\n",
       "  </thead>\n",
       "  <tbody>\n",
       "    <tr>\n",
       "      <th>Mohamed Salah2023-12-23T17:30:00Z</th>\n",
       "      <td>Mohamed Salah</td>\n",
       "      <td>7.690070</td>\n",
       "      <td>Liverpool</td>\n",
       "    </tr>\n",
       "    <tr>\n",
       "      <th>Son Heung-min2023-12-23T15:00:00Z</th>\n",
       "      <td>Son Heung-min</td>\n",
       "      <td>4.859019</td>\n",
       "      <td>Spurs</td>\n",
       "    </tr>\n",
       "    <tr>\n",
       "      <th>Jarrod Bowen2023-12-23T12:30:00Z</th>\n",
       "      <td>Jarrod Bowen</td>\n",
       "      <td>4.738839</td>\n",
       "      <td>West Ham</td>\n",
       "    </tr>\n",
       "    <tr>\n",
       "      <th>Richarlison de Andrade2023-12-23T15:00:00Z</th>\n",
       "      <td>Richarlison de Andrade</td>\n",
       "      <td>4.413675</td>\n",
       "      <td>Spurs</td>\n",
       "    </tr>\n",
       "    <tr>\n",
       "      <th>Dejan Kulusevski2023-12-23T15:00:00Z</th>\n",
       "      <td>Dejan Kulusevski</td>\n",
       "      <td>4.361500</td>\n",
       "      <td>Spurs</td>\n",
       "    </tr>\n",
       "    <tr>\n",
       "      <th>Mohammed Kudus2023-12-23T12:30:00Z</th>\n",
       "      <td>Mohammed Kudus</td>\n",
       "      <td>4.345706</td>\n",
       "      <td>West Ham</td>\n",
       "    </tr>\n",
       "    <tr>\n",
       "      <th>Dwight McNeil2023-12-23T15:00:00Z</th>\n",
       "      <td>Dwight McNeil</td>\n",
       "      <td>4.251553</td>\n",
       "      <td>Everton</td>\n",
       "    </tr>\n",
       "    <tr>\n",
       "      <th>Cole Palmer2023-12-24T13:00:00Z</th>\n",
       "      <td>Cole Palmer</td>\n",
       "      <td>4.213654</td>\n",
       "      <td>Chelsea</td>\n",
       "    </tr>\n",
       "    <tr>\n",
       "      <th>Andreas Hoelgebaum Pereira2023-12-23T15:00:00Z</th>\n",
       "      <td>Andreas Hoelgebaum Pereira</td>\n",
       "      <td>4.170227</td>\n",
       "      <td>Fulham</td>\n",
       "    </tr>\n",
       "    <tr>\n",
       "      <th>Martin Ødegaard2023-12-23T17:30:00Z</th>\n",
       "      <td>Martin Ødegaard</td>\n",
       "      <td>4.110820</td>\n",
       "      <td>Arsenal</td>\n",
       "    </tr>\n",
       "    <tr>\n",
       "      <th>Bukayo Saka2023-12-23T17:30:00Z</th>\n",
       "      <td>Bukayo Saka</td>\n",
       "      <td>4.098485</td>\n",
       "      <td>Arsenal</td>\n",
       "    </tr>\n",
       "  </tbody>\n",
       "</table>\n",
       "</div>"
      ],
      "text/plain": [
       "                                                                      name  \\\n",
       "index                                                                        \n",
       "Mohamed Salah2023-12-23T17:30:00Z                            Mohamed Salah   \n",
       "Son Heung-min2023-12-23T15:00:00Z                            Son Heung-min   \n",
       "Jarrod Bowen2023-12-23T12:30:00Z                              Jarrod Bowen   \n",
       "Richarlison de Andrade2023-12-23T15:00:00Z          Richarlison de Andrade   \n",
       "Dejan Kulusevski2023-12-23T15:00:00Z                      Dejan Kulusevski   \n",
       "Mohammed Kudus2023-12-23T12:30:00Z                          Mohammed Kudus   \n",
       "Dwight McNeil2023-12-23T15:00:00Z                            Dwight McNeil   \n",
       "Cole Palmer2023-12-24T13:00:00Z                                Cole Palmer   \n",
       "Andreas Hoelgebaum Pereira2023-12-23T15:00:00Z  Andreas Hoelgebaum Pereira   \n",
       "Martin Ødegaard2023-12-23T17:30:00Z                        Martin Ødegaard   \n",
       "Bukayo Saka2023-12-23T17:30:00Z                                Bukayo Saka   \n",
       "\n",
       "                                                  points       team  \n",
       "index                                                                \n",
       "Mohamed Salah2023-12-23T17:30:00Z               7.690070  Liverpool  \n",
       "Son Heung-min2023-12-23T15:00:00Z               4.859019      Spurs  \n",
       "Jarrod Bowen2023-12-23T12:30:00Z                4.738839   West Ham  \n",
       "Richarlison de Andrade2023-12-23T15:00:00Z      4.413675      Spurs  \n",
       "Dejan Kulusevski2023-12-23T15:00:00Z            4.361500      Spurs  \n",
       "Mohammed Kudus2023-12-23T12:30:00Z              4.345706   West Ham  \n",
       "Dwight McNeil2023-12-23T15:00:00Z               4.251553    Everton  \n",
       "Cole Palmer2023-12-24T13:00:00Z                 4.213654    Chelsea  \n",
       "Andreas Hoelgebaum Pereira2023-12-23T15:00:00Z  4.170227     Fulham  \n",
       "Martin Ødegaard2023-12-23T17:30:00Z             4.110820    Arsenal  \n",
       "Bukayo Saka2023-12-23T17:30:00Z                 4.098485    Arsenal  "
      ]
     },
     "execution_count": 14,
     "metadata": {},
     "output_type": "execute_result"
    }
   ],
   "source": [
    "test[test[\"position\"]==\"MID\"].sort_values(by=\"points\",ascending=False).head(11)[[\"name\",\"points\",\"team\"]]"
   ]
  },
  {
   "cell_type": "code",
   "execution_count": 15,
   "metadata": {
    "colab": {
     "base_uri": "https://localhost:8080/",
     "height": 394
    },
    "id": "R9-XbtdrAeyB",
    "outputId": "b6433746-a570-44ea-83ff-cb49732543c9"
   },
   "outputs": [
    {
     "data": {
      "text/html": [
       "<div>\n",
       "<style scoped>\n",
       "    .dataframe tbody tr th:only-of-type {\n",
       "        vertical-align: middle;\n",
       "    }\n",
       "\n",
       "    .dataframe tbody tr th {\n",
       "        vertical-align: top;\n",
       "    }\n",
       "\n",
       "    .dataframe thead th {\n",
       "        text-align: right;\n",
       "    }\n",
       "</style>\n",
       "<table border=\"1\" class=\"dataframe\">\n",
       "  <thead>\n",
       "    <tr style=\"text-align: right;\">\n",
       "      <th></th>\n",
       "      <th>name</th>\n",
       "      <th>points</th>\n",
       "      <th>team</th>\n",
       "    </tr>\n",
       "    <tr>\n",
       "      <th>index</th>\n",
       "      <th></th>\n",
       "      <th></th>\n",
       "      <th></th>\n",
       "    </tr>\n",
       "  </thead>\n",
       "  <tbody>\n",
       "    <tr>\n",
       "      <th>Trent Alexander-Arnold2023-12-23T17:30:00Z</th>\n",
       "      <td>Trent Alexander-Arnold</td>\n",
       "      <td>5.526128</td>\n",
       "      <td>Liverpool</td>\n",
       "    </tr>\n",
       "    <tr>\n",
       "      <th>Kieran Trippier2023-12-23T15:00:00Z</th>\n",
       "      <td>Kieran Trippier</td>\n",
       "      <td>4.475625</td>\n",
       "      <td>Newcastle</td>\n",
       "    </tr>\n",
       "    <tr>\n",
       "      <th>Pau Torres2023-12-22T20:00:00Z</th>\n",
       "      <td>Pau Torres</td>\n",
       "      <td>4.028821</td>\n",
       "      <td>Aston Villa</td>\n",
       "    </tr>\n",
       "    <tr>\n",
       "      <th>Pedro Porro2023-12-23T15:00:00Z</th>\n",
       "      <td>Pedro Porro</td>\n",
       "      <td>3.913156</td>\n",
       "      <td>Spurs</td>\n",
       "    </tr>\n",
       "    <tr>\n",
       "      <th>Diego Carlos Santos Silva2023-12-22T20:00:00Z</th>\n",
       "      <td>Diego Carlos Santos Silva</td>\n",
       "      <td>3.815099</td>\n",
       "      <td>Aston Villa</td>\n",
       "    </tr>\n",
       "    <tr>\n",
       "      <th>Ezri Konsa Ngoyo2023-12-22T20:00:00Z</th>\n",
       "      <td>Ezri Konsa Ngoyo</td>\n",
       "      <td>3.563010</td>\n",
       "      <td>Aston Villa</td>\n",
       "    </tr>\n",
       "    <tr>\n",
       "      <th>James Tarkowski2023-12-23T15:00:00Z</th>\n",
       "      <td>James Tarkowski</td>\n",
       "      <td>3.384701</td>\n",
       "      <td>Everton</td>\n",
       "    </tr>\n",
       "    <tr>\n",
       "      <th>Tino Livramento2023-12-23T15:00:00Z</th>\n",
       "      <td>Tino Livramento</td>\n",
       "      <td>3.325870</td>\n",
       "      <td>Newcastle</td>\n",
       "    </tr>\n",
       "    <tr>\n",
       "      <th>Timothy Castagne2023-12-23T15:00:00Z</th>\n",
       "      <td>Timothy Castagne</td>\n",
       "      <td>3.292158</td>\n",
       "      <td>Fulham</td>\n",
       "    </tr>\n",
       "    <tr>\n",
       "      <th>Ben Davies2023-12-23T15:00:00Z</th>\n",
       "      <td>Ben Davies</td>\n",
       "      <td>3.217427</td>\n",
       "      <td>Spurs</td>\n",
       "    </tr>\n",
       "  </tbody>\n",
       "</table>\n",
       "</div>"
      ],
      "text/plain": [
       "                                                                    name  \\\n",
       "index                                                                      \n",
       "Trent Alexander-Arnold2023-12-23T17:30:00Z        Trent Alexander-Arnold   \n",
       "Kieran Trippier2023-12-23T15:00:00Z                      Kieran Trippier   \n",
       "Pau Torres2023-12-22T20:00:00Z                                Pau Torres   \n",
       "Pedro Porro2023-12-23T15:00:00Z                              Pedro Porro   \n",
       "Diego Carlos Santos Silva2023-12-22T20:00:00Z  Diego Carlos Santos Silva   \n",
       "Ezri Konsa Ngoyo2023-12-22T20:00:00Z                    Ezri Konsa Ngoyo   \n",
       "James Tarkowski2023-12-23T15:00:00Z                      James Tarkowski   \n",
       "Tino Livramento2023-12-23T15:00:00Z                      Tino Livramento   \n",
       "Timothy Castagne2023-12-23T15:00:00Z                    Timothy Castagne   \n",
       "Ben Davies2023-12-23T15:00:00Z                                Ben Davies   \n",
       "\n",
       "                                                 points         team  \n",
       "index                                                                 \n",
       "Trent Alexander-Arnold2023-12-23T17:30:00Z     5.526128    Liverpool  \n",
       "Kieran Trippier2023-12-23T15:00:00Z            4.475625    Newcastle  \n",
       "Pau Torres2023-12-22T20:00:00Z                 4.028821  Aston Villa  \n",
       "Pedro Porro2023-12-23T15:00:00Z                3.913156        Spurs  \n",
       "Diego Carlos Santos Silva2023-12-22T20:00:00Z  3.815099  Aston Villa  \n",
       "Ezri Konsa Ngoyo2023-12-22T20:00:00Z           3.563010  Aston Villa  \n",
       "James Tarkowski2023-12-23T15:00:00Z            3.384701      Everton  \n",
       "Tino Livramento2023-12-23T15:00:00Z            3.325870    Newcastle  \n",
       "Timothy Castagne2023-12-23T15:00:00Z           3.292158       Fulham  \n",
       "Ben Davies2023-12-23T15:00:00Z                 3.217427        Spurs  "
      ]
     },
     "execution_count": 15,
     "metadata": {},
     "output_type": "execute_result"
    }
   ],
   "source": [
    "test[test[\"position\"]==\"DEF\"].sort_values(by=\"points\",ascending=False).head(10)[[\"name\",\"points\",\"team\"]]"
   ]
  },
  {
   "cell_type": "code",
   "execution_count": 16,
   "metadata": {
    "colab": {
     "base_uri": "https://localhost:8080/",
     "height": 394
    },
    "id": "_b9fjvegAsG7",
    "outputId": "7073a71f-7627-4ab9-ad66-b2a878dca5cb"
   },
   "outputs": [
    {
     "data": {
      "text/html": [
       "<div>\n",
       "<style scoped>\n",
       "    .dataframe tbody tr th:only-of-type {\n",
       "        vertical-align: middle;\n",
       "    }\n",
       "\n",
       "    .dataframe tbody tr th {\n",
       "        vertical-align: top;\n",
       "    }\n",
       "\n",
       "    .dataframe thead th {\n",
       "        text-align: right;\n",
       "    }\n",
       "</style>\n",
       "<table border=\"1\" class=\"dataframe\">\n",
       "  <thead>\n",
       "    <tr style=\"text-align: right;\">\n",
       "      <th></th>\n",
       "      <th>name</th>\n",
       "      <th>points</th>\n",
       "      <th>team</th>\n",
       "    </tr>\n",
       "    <tr>\n",
       "      <th>index</th>\n",
       "      <th></th>\n",
       "      <th></th>\n",
       "      <th></th>\n",
       "    </tr>\n",
       "  </thead>\n",
       "  <tbody>\n",
       "    <tr>\n",
       "      <th>Emiliano Martínez Romero2023-12-22T20:00:00Z</th>\n",
       "      <td>Emiliano Martínez Romero</td>\n",
       "      <td>4.106032</td>\n",
       "      <td>Aston Villa</td>\n",
       "    </tr>\n",
       "    <tr>\n",
       "      <th>Jordan Pickford2023-12-23T15:00:00Z</th>\n",
       "      <td>Jordan Pickford</td>\n",
       "      <td>3.820582</td>\n",
       "      <td>Everton</td>\n",
       "    </tr>\n",
       "    <tr>\n",
       "      <th>Norberto Murara Neto2023-12-23T15:00:00Z</th>\n",
       "      <td>Norberto Murara Neto</td>\n",
       "      <td>3.676228</td>\n",
       "      <td>Bournemouth</td>\n",
       "    </tr>\n",
       "    <tr>\n",
       "      <th>Bernd Leno2023-12-23T15:00:00Z</th>\n",
       "      <td>Bernd Leno</td>\n",
       "      <td>3.512390</td>\n",
       "      <td>Fulham</td>\n",
       "    </tr>\n",
       "    <tr>\n",
       "      <th>Martin Dubravka2023-12-23T15:00:00Z</th>\n",
       "      <td>Martin Dubravka</td>\n",
       "      <td>3.423732</td>\n",
       "      <td>Newcastle</td>\n",
       "    </tr>\n",
       "    <tr>\n",
       "      <th>Mark Flekken2023-12-27T19:30:00Z</th>\n",
       "      <td>Mark Flekken</td>\n",
       "      <td>3.349216</td>\n",
       "      <td>Brentford</td>\n",
       "    </tr>\n",
       "    <tr>\n",
       "      <th>Guglielmo Vicario2023-12-23T15:00:00Z</th>\n",
       "      <td>Guglielmo Vicario</td>\n",
       "      <td>3.234662</td>\n",
       "      <td>Spurs</td>\n",
       "    </tr>\n",
       "    <tr>\n",
       "      <th>André Onana2023-12-23T12:30:00Z</th>\n",
       "      <td>André Onana</td>\n",
       "      <td>3.171778</td>\n",
       "      <td>Man Utd</td>\n",
       "    </tr>\n",
       "    <tr>\n",
       "      <th>Ederson Santana de Moraes2023-12-27T20:15:00Z</th>\n",
       "      <td>Ederson Santana de Moraes</td>\n",
       "      <td>2.788371</td>\n",
       "      <td>Man City</td>\n",
       "    </tr>\n",
       "    <tr>\n",
       "      <th>Lukasz Fabianski2023-12-23T12:30:00Z</th>\n",
       "      <td>Lukasz Fabianski</td>\n",
       "      <td>2.699552</td>\n",
       "      <td>West Ham</td>\n",
       "    </tr>\n",
       "  </tbody>\n",
       "</table>\n",
       "</div>"
      ],
      "text/plain": [
       "                                                                    name  \\\n",
       "index                                                                      \n",
       "Emiliano Martínez Romero2023-12-22T20:00:00Z    Emiliano Martínez Romero   \n",
       "Jordan Pickford2023-12-23T15:00:00Z                      Jordan Pickford   \n",
       "Norberto Murara Neto2023-12-23T15:00:00Z            Norberto Murara Neto   \n",
       "Bernd Leno2023-12-23T15:00:00Z                                Bernd Leno   \n",
       "Martin Dubravka2023-12-23T15:00:00Z                      Martin Dubravka   \n",
       "Mark Flekken2023-12-27T19:30:00Z                            Mark Flekken   \n",
       "Guglielmo Vicario2023-12-23T15:00:00Z                  Guglielmo Vicario   \n",
       "André Onana2023-12-23T12:30:00Z                              André Onana   \n",
       "Ederson Santana de Moraes2023-12-27T20:15:00Z  Ederson Santana de Moraes   \n",
       "Lukasz Fabianski2023-12-23T12:30:00Z                    Lukasz Fabianski   \n",
       "\n",
       "                                                 points         team  \n",
       "index                                                                 \n",
       "Emiliano Martínez Romero2023-12-22T20:00:00Z   4.106032  Aston Villa  \n",
       "Jordan Pickford2023-12-23T15:00:00Z            3.820582      Everton  \n",
       "Norberto Murara Neto2023-12-23T15:00:00Z       3.676228  Bournemouth  \n",
       "Bernd Leno2023-12-23T15:00:00Z                 3.512390       Fulham  \n",
       "Martin Dubravka2023-12-23T15:00:00Z            3.423732    Newcastle  \n",
       "Mark Flekken2023-12-27T19:30:00Z               3.349216    Brentford  \n",
       "Guglielmo Vicario2023-12-23T15:00:00Z          3.234662        Spurs  \n",
       "André Onana2023-12-23T12:30:00Z                3.171778      Man Utd  \n",
       "Ederson Santana de Moraes2023-12-27T20:15:00Z  2.788371     Man City  \n",
       "Lukasz Fabianski2023-12-23T12:30:00Z           2.699552     West Ham  "
      ]
     },
     "execution_count": 16,
     "metadata": {},
     "output_type": "execute_result"
    }
   ],
   "source": [
    "test[test[\"position\"]==\"GKP\"].sort_values(by=\"points\",ascending=False).head(10)[[\"name\",\"points\",\"team\"]]"
   ]
  },
  {
   "cell_type": "code",
   "execution_count": 17,
   "metadata": {
    "colab": {
     "base_uri": "https://localhost:8080/",
     "height": 394
    },
    "id": "DhgfhH7AgUW3",
    "outputId": "38d4b894-d287-4898-d483-eb736b280def"
   },
   "outputs": [
    {
     "data": {
      "text/html": [
       "<div>\n",
       "<style scoped>\n",
       "    .dataframe tbody tr th:only-of-type {\n",
       "        vertical-align: middle;\n",
       "    }\n",
       "\n",
       "    .dataframe tbody tr th {\n",
       "        vertical-align: top;\n",
       "    }\n",
       "\n",
       "    .dataframe thead th {\n",
       "        text-align: right;\n",
       "    }\n",
       "</style>\n",
       "<table border=\"1\" class=\"dataframe\">\n",
       "  <thead>\n",
       "    <tr style=\"text-align: right;\">\n",
       "      <th></th>\n",
       "      <th>name</th>\n",
       "      <th>points</th>\n",
       "      <th>team</th>\n",
       "    </tr>\n",
       "    <tr>\n",
       "      <th>index</th>\n",
       "      <th></th>\n",
       "      <th></th>\n",
       "      <th></th>\n",
       "    </tr>\n",
       "  </thead>\n",
       "  <tbody>\n",
       "    <tr>\n",
       "      <th>Ollie Watkins2023-12-22T20:00:00Z</th>\n",
       "      <td>Ollie Watkins</td>\n",
       "      <td>5.065726</td>\n",
       "      <td>Aston Villa</td>\n",
       "    </tr>\n",
       "    <tr>\n",
       "      <th>Dominic Solanke2023-12-23T15:00:00Z</th>\n",
       "      <td>Dominic Solanke</td>\n",
       "      <td>4.203854</td>\n",
       "      <td>Bournemouth</td>\n",
       "    </tr>\n",
       "    <tr>\n",
       "      <th>Matheus Santos Carneiro Da Cunha2023-12-24T13:00:00Z</th>\n",
       "      <td>Matheus Santos Carneiro Da Cunha</td>\n",
       "      <td>4.151137</td>\n",
       "      <td>Wolves</td>\n",
       "    </tr>\n",
       "    <tr>\n",
       "      <th>Dominic Calvert-Lewin2023-12-23T15:00:00Z</th>\n",
       "      <td>Dominic Calvert-Lewin</td>\n",
       "      <td>3.708173</td>\n",
       "      <td>Everton</td>\n",
       "    </tr>\n",
       "    <tr>\n",
       "      <th>Callum Wilson2023-12-23T15:00:00Z</th>\n",
       "      <td>Callum Wilson</td>\n",
       "      <td>3.550446</td>\n",
       "      <td>Newcastle</td>\n",
       "    </tr>\n",
       "    <tr>\n",
       "      <th>Erling Haaland2023-12-27T20:15:00Z</th>\n",
       "      <td>Erling Haaland</td>\n",
       "      <td>3.522933</td>\n",
       "      <td>Man City</td>\n",
       "    </tr>\n",
       "    <tr>\n",
       "      <th>Nicolas Jackson2023-12-24T13:00:00Z</th>\n",
       "      <td>Nicolas Jackson</td>\n",
       "      <td>3.229529</td>\n",
       "      <td>Chelsea</td>\n",
       "    </tr>\n",
       "    <tr>\n",
       "      <th>João Pedro Junqueira de Jesus2023-12-21T20:00:00Z</th>\n",
       "      <td>João Pedro Junqueira de Jesus</td>\n",
       "      <td>2.900343</td>\n",
       "      <td>Brighton</td>\n",
       "    </tr>\n",
       "    <tr>\n",
       "      <th>Gabriel Fernando de Jesus2023-12-23T17:30:00Z</th>\n",
       "      <td>Gabriel Fernando de Jesus</td>\n",
       "      <td>2.899754</td>\n",
       "      <td>Arsenal</td>\n",
       "    </tr>\n",
       "    <tr>\n",
       "      <th>Zeki Amdouni2023-12-23T15:00:00Z</th>\n",
       "      <td>Zeki Amdouni</td>\n",
       "      <td>2.817616</td>\n",
       "      <td>Burnley</td>\n",
       "    </tr>\n",
       "  </tbody>\n",
       "</table>\n",
       "</div>"
      ],
      "text/plain": [
       "                                                                                name  \\\n",
       "index                                                                                  \n",
       "Ollie Watkins2023-12-22T20:00:00Z                                      Ollie Watkins   \n",
       "Dominic Solanke2023-12-23T15:00:00Z                                  Dominic Solanke   \n",
       "Matheus Santos Carneiro Da Cunha2023-12-24T13:0...  Matheus Santos Carneiro Da Cunha   \n",
       "Dominic Calvert-Lewin2023-12-23T15:00:00Z                      Dominic Calvert-Lewin   \n",
       "Callum Wilson2023-12-23T15:00:00Z                                      Callum Wilson   \n",
       "Erling Haaland2023-12-27T20:15:00Z                                    Erling Haaland   \n",
       "Nicolas Jackson2023-12-24T13:00:00Z                                  Nicolas Jackson   \n",
       "João Pedro Junqueira de Jesus2023-12-21T20:00:00Z      João Pedro Junqueira de Jesus   \n",
       "Gabriel Fernando de Jesus2023-12-23T17:30:00Z              Gabriel Fernando de Jesus   \n",
       "Zeki Amdouni2023-12-23T15:00:00Z                                        Zeki Amdouni   \n",
       "\n",
       "                                                      points         team  \n",
       "index                                                                      \n",
       "Ollie Watkins2023-12-22T20:00:00Z                   5.065726  Aston Villa  \n",
       "Dominic Solanke2023-12-23T15:00:00Z                 4.203854  Bournemouth  \n",
       "Matheus Santos Carneiro Da Cunha2023-12-24T13:0...  4.151137       Wolves  \n",
       "Dominic Calvert-Lewin2023-12-23T15:00:00Z           3.708173      Everton  \n",
       "Callum Wilson2023-12-23T15:00:00Z                   3.550446    Newcastle  \n",
       "Erling Haaland2023-12-27T20:15:00Z                  3.522933     Man City  \n",
       "Nicolas Jackson2023-12-24T13:00:00Z                 3.229529      Chelsea  \n",
       "João Pedro Junqueira de Jesus2023-12-21T20:00:00Z   2.900343     Brighton  \n",
       "Gabriel Fernando de Jesus2023-12-23T17:30:00Z       2.899754      Arsenal  \n",
       "Zeki Amdouni2023-12-23T15:00:00Z                    2.817616      Burnley  "
      ]
     },
     "execution_count": 17,
     "metadata": {},
     "output_type": "execute_result"
    }
   ],
   "source": [
    "test[test[\"position\"]==\"FWD\"].sort_values(by=\"points\",ascending=False).head(10)[[\"name\",\"points\",\"team\"]]"
   ]
  },
  {
   "cell_type": "code",
   "execution_count": 18,
   "metadata": {
    "colab": {
     "base_uri": "https://localhost:8080/"
    },
    "id": "UCBjSKR_uf6m",
    "outputId": "05cf4abf-4d6c-4938-abfa-61aa0cebd817"
   },
   "outputs": [
    {
     "data": {
      "text/plain": [
       "index\n",
       "Mohamed Salah2023-12-23T17:30:00Z                         7.690070\n",
       "Trent Alexander-Arnold2023-12-23T17:30:00Z                5.526128\n",
       "Ollie Watkins2023-12-22T20:00:00Z                         5.065726\n",
       "Son Heung-min2023-12-23T15:00:00Z                         4.859019\n",
       "Jarrod Bowen2023-12-23T12:30:00Z                          4.738839\n",
       "Kieran Trippier2023-12-23T15:00:00Z                       4.475625\n",
       "Richarlison de Andrade2023-12-23T15:00:00Z                4.413675\n",
       "Dejan Kulusevski2023-12-23T15:00:00Z                      4.361500\n",
       "Mohammed Kudus2023-12-23T12:30:00Z                        4.345706\n",
       "Dwight McNeil2023-12-23T15:00:00Z                         4.251553\n",
       "Cole Palmer2023-12-24T13:00:00Z                           4.213654\n",
       "Dominic Solanke2023-12-23T15:00:00Z                       4.203854\n",
       "Andreas Hoelgebaum Pereira2023-12-23T15:00:00Z            4.170227\n",
       "Matheus Santos Carneiro Da Cunha2023-12-24T13:00:00Z      4.151137\n",
       "Martin Ødegaard2023-12-23T17:30:00Z                       4.110820\n",
       "Emiliano Martínez Romero2023-12-22T20:00:00Z              4.106032\n",
       "Bukayo Saka2023-12-23T17:30:00Z                           4.098485\n",
       "Bruno Borges Fernandes2023-12-23T12:30:00Z                4.029573\n",
       "Pau Torres2023-12-22T20:00:00Z                            4.028821\n",
       "Anthony Gordon2023-12-23T15:00:00Z                        3.938918\n",
       "Pedro Porro2023-12-23T15:00:00Z                           3.913156\n",
       "John McGinn2023-12-22T20:00:00Z                           3.909912\n",
       "Miguel Almirón Rejala2023-12-23T15:00:00Z                 3.869588\n",
       "Jordan Pickford2023-12-23T15:00:00Z                       3.820582\n",
       "Diego Carlos Santos Silva2023-12-22T20:00:00Z             3.815099\n",
       "Jack Grealish2023-12-27T20:15:00Z                         3.804711\n",
       "Leon Bailey2023-12-22T20:00:00Z                           3.751784\n",
       "Phil Foden2023-12-27T20:15:00Z                            3.728760\n",
       "Hwang Hee-chan2023-12-24T13:00:00Z                        3.721889\n",
       "Dominic Calvert-Lewin2023-12-23T15:00:00Z                 3.708173\n",
       "Norberto Murara Neto2023-12-23T15:00:00Z                  3.676228\n",
       "Kai Havertz2023-12-23T17:30:00Z                           3.614069\n",
       "James Ward-Prowse2023-12-23T12:30:00Z                     3.584984\n",
       "Ezri Konsa Ngoyo2023-12-22T20:00:00Z                      3.563010\n",
       "Callum Wilson2023-12-23T15:00:00Z                         3.550446\n",
       "Erling Haaland2023-12-27T20:15:00Z                        3.522933\n",
       "Bernd Leno2023-12-23T15:00:00Z                            3.512390\n",
       "Scott McTominay2023-12-23T12:30:00Z                       3.506695\n",
       "Jack Harrison2023-12-23T15:00:00Z                         3.459523\n",
       "Martin Dubravka2023-12-23T15:00:00Z                       3.423732\n",
       "Pascal Groß2023-12-21T20:00:00Z                           3.413369\n",
       "Bruno Guimarães Rodriguez Moura2023-12-23T15:00:00Z       3.394837\n",
       "James Tarkowski2023-12-23T15:00:00Z                       3.384701\n",
       "Mark Flekken2023-12-27T19:30:00Z                          3.349216\n",
       "Brennan Johnson2023-12-23T15:00:00Z                       3.331257\n",
       "Douglas Luiz Soares de Paulo2023-12-22T20:00:00Z          3.328844\n",
       "Tino Livramento2023-12-23T15:00:00Z                       3.325870\n",
       "Timothy Castagne2023-12-23T15:00:00Z                      3.292158\n",
       "Bernardo Veiga de Carvalho e Silva2023-12-27T20:15:00Z    3.252853\n",
       "Guglielmo Vicario2023-12-23T15:00:00Z                     3.234662\n",
       "Name: points, dtype: float64"
      ]
     },
     "execution_count": 18,
     "metadata": {},
     "output_type": "execute_result"
    }
   ],
   "source": [
    "test[\"points\"].sort_values(ascending=False).head(50)"
   ]
  },
  {
   "cell_type": "code",
   "execution_count": 19,
   "metadata": {
    "id": "TEVZdPSFrxKn"
   },
   "outputs": [],
   "source": [
    "\n",
    "# feature_importance = pd.DataFrame(\n",
    "#     {\"column\": x.columns, \"imp\": model.feature_importances_}\n",
    "# ).sort_values(\n",
    "#     \"imp\", ascending=False\n",
    "# )  #"
   ]
  },
  {
   "cell_type": "code",
   "execution_count": 20,
   "metadata": {
    "colab": {
     "base_uri": "https://localhost:8080/",
     "height": 1000
    },
    "id": "cp1yUjTNvJnk",
    "outputId": "76a00ccf-df81-46e9-b3bc-58527fbefefb"
   },
   "outputs": [],
   "source": [
    "# feature_importance.head(50)"
   ]
  },
  {
   "cell_type": "code",
   "execution_count": 21,
   "metadata": {
    "colab": {
     "base_uri": "https://localhost:8080/",
     "height": 990
    },
    "id": "oB09ezWX0Q6H",
    "outputId": "4aeae781-1788-4dcc-feaa-c9577d8aaea0"
   },
   "outputs": [],
   "source": [
    "# feature_importance.tail(30)"
   ]
  },
  {
   "cell_type": "markdown",
   "metadata": {
    "id": "GBl8UYussJIl"
   },
   "source": [
    "#Save predictions"
   ]
  },
  {
   "cell_type": "code",
   "execution_count": 22,
   "metadata": {
    "colab": {
     "background_save": true
    },
    "id": "HRm_1_f0sb1d"
   },
   "outputs": [],
   "source": [
    "test_copy[test_copy[\"position\"]==\"DEF\"][[\"name\",\"team\",\"minutes\"]].to_csv(f\"predicted_dataset/GW{gameweek}/defenders_minutes.csv\")\n",
    "test_copy[test_copy[\"position\"]==\"GKP\"][[\"name\",\"team\",\"minutes\"]].to_csv(f\"predicted_dataset/GW{gameweek}/goalkeepers_minutes.csv\")\n",
    "test_copy[test_copy[\"position\"]==\"MID\"][[\"name\",\"team\",\"minutes\"]].to_csv(f\"predicted_dataset/GW{gameweek}/midfielders_minutes.csv\")\n",
    "test_copy[test_copy[\"position\"]==\"FWD\"][[\"name\",\"team\",\"minutes\"]].to_csv(f\"predicted_dataset/GW{gameweek}/forwards_minutes.csv\")"
   ]
  },
  {
   "cell_type": "code",
   "execution_count": 23,
   "metadata": {
    "colab": {
     "background_save": true
    },
    "id": "jGCIVTg1uCs3"
   },
   "outputs": [],
   "source": [
    "test[test[\"position\"]==\"DEF\"][[\"name\",\"team\",\"points\",\"value\"]].sort_values(by=\"points\",ascending=False).to_csv(f\"predicted_dataset/GW{gameweek}/defenders_points.csv\")\n",
    "test[test[\"position\"]==\"GKP\"][[\"name\",\"team\",\"points\",\"value\"]].sort_values(by=\"points\",ascending=False).to_csv(f\"predicted_dataset/GW{gameweek}/goalkeepers_points.csv\")\n",
    "test[test[\"position\"]==\"MID\"][[\"name\",\"team\",\"points\",\"value\"]].sort_values(by=\"points\",ascending=False).to_csv(f\"predicted_dataset/GW{gameweek}/midfielders_points.csv\")\n",
    "test[test[\"position\"]==\"FWD\"][[\"name\",\"team\",\"points\",\"value\"]].sort_values(by=\"points\",ascending=False).to_csv(f\"predicted_dataset/GW{gameweek}/forwards_points.csv\")"
   ]
  },
  {
   "cell_type": "code",
   "execution_count": 24,
   "metadata": {
    "colab": {
     "background_save": true
    },
    "id": "G_OjzKsigsv_"
   },
   "outputs": [
    {
     "data": {
      "text/html": [
       "<div>\n",
       "<style scoped>\n",
       "    .dataframe tbody tr th:only-of-type {\n",
       "        vertical-align: middle;\n",
       "    }\n",
       "\n",
       "    .dataframe tbody tr th {\n",
       "        vertical-align: top;\n",
       "    }\n",
       "\n",
       "    .dataframe thead th {\n",
       "        text-align: right;\n",
       "    }\n",
       "</style>\n",
       "<table border=\"1\" class=\"dataframe\">\n",
       "  <thead>\n",
       "    <tr style=\"text-align: right;\">\n",
       "      <th></th>\n",
       "      <th>name</th>\n",
       "      <th>team</th>\n",
       "      <th>minutes</th>\n",
       "    </tr>\n",
       "  </thead>\n",
       "  <tbody>\n",
       "    <tr>\n",
       "      <th>0</th>\n",
       "      <td>Fodé Ballo-Touré</td>\n",
       "      <td>Fulham</td>\n",
       "      <td>NaN</td>\n",
       "    </tr>\n",
       "    <tr>\n",
       "      <th>1</th>\n",
       "      <td>Timothy Castagne</td>\n",
       "      <td>Fulham</td>\n",
       "      <td>NaN</td>\n",
       "    </tr>\n",
       "    <tr>\n",
       "      <th>5</th>\n",
       "      <td>Ashley Phillips</td>\n",
       "      <td>Spurs</td>\n",
       "      <td>NaN</td>\n",
       "    </tr>\n",
       "    <tr>\n",
       "      <th>7</th>\n",
       "      <td>Rico Lewis</td>\n",
       "      <td>Man City</td>\n",
       "      <td>NaN</td>\n",
       "    </tr>\n",
       "    <tr>\n",
       "      <th>10</th>\n",
       "      <td>Rúben Gato Alves Dias</td>\n",
       "      <td>Man City</td>\n",
       "      <td>NaN</td>\n",
       "    </tr>\n",
       "    <tr>\n",
       "      <th>...</th>\n",
       "      <td>...</td>\n",
       "      <td>...</td>\n",
       "      <td>...</td>\n",
       "    </tr>\n",
       "    <tr>\n",
       "      <th>745</th>\n",
       "      <td>Luke Chambers</td>\n",
       "      <td>Liverpool</td>\n",
       "      <td>NaN</td>\n",
       "    </tr>\n",
       "    <tr>\n",
       "      <th>754</th>\n",
       "      <td>Reuell Walters</td>\n",
       "      <td>Arsenal</td>\n",
       "      <td>NaN</td>\n",
       "    </tr>\n",
       "    <tr>\n",
       "      <th>759</th>\n",
       "      <td>Tayo Adaramola</td>\n",
       "      <td>Crystal Palace</td>\n",
       "      <td>NaN</td>\n",
       "    </tr>\n",
       "    <tr>\n",
       "      <th>761</th>\n",
       "      <td>Valintino Adedokun</td>\n",
       "      <td>Brentford</td>\n",
       "      <td>NaN</td>\n",
       "    </tr>\n",
       "    <tr>\n",
       "      <th>763</th>\n",
       "      <td>Willy Kambwala</td>\n",
       "      <td>Man Utd</td>\n",
       "      <td>NaN</td>\n",
       "    </tr>\n",
       "  </tbody>\n",
       "</table>\n",
       "<p>248 rows × 3 columns</p>\n",
       "</div>"
      ],
      "text/plain": [
       "                      name            team  minutes\n",
       "0         Fodé Ballo-Touré          Fulham      NaN\n",
       "1         Timothy Castagne          Fulham      NaN\n",
       "5          Ashley Phillips           Spurs      NaN\n",
       "7               Rico Lewis        Man City      NaN\n",
       "10   Rúben Gato Alves Dias        Man City      NaN\n",
       "..                     ...             ...      ...\n",
       "745          Luke Chambers       Liverpool      NaN\n",
       "754         Reuell Walters         Arsenal      NaN\n",
       "759         Tayo Adaramola  Crystal Palace      NaN\n",
       "761     Valintino Adedokun       Brentford      NaN\n",
       "763         Willy Kambwala         Man Utd      NaN\n",
       "\n",
       "[248 rows x 3 columns]"
      ]
     },
     "execution_count": 24,
     "metadata": {},
     "output_type": "execute_result"
    }
   ],
   "source": [
    "test_copy[test_copy[\"position\"]==\"DEF\"][[\"name\",\"team\",\"minutes\"]]"
   ]
  },
  {
   "cell_type": "code",
   "execution_count": null,
   "metadata": {},
   "outputs": [],
   "source": []
  }
 ],
 "metadata": {
  "colab": {
   "authorship_tag": "ABX9TyPQfJgzw5l5i50tJbZklE/V",
   "include_colab_link": true,
   "mount_file_id": "1aEyJ1htjtEffPwyNX1iNXKt1AcmE_aIT",
   "provenance": []
  },
  "kernelspec": {
   "display_name": "Python 3 (ipykernel)",
   "language": "python",
   "name": "python3"
  },
  "language_info": {
   "codemirror_mode": {
    "name": "ipython",
    "version": 3
   },
   "file_extension": ".py",
   "mimetype": "text/x-python",
   "name": "python",
   "nbconvert_exporter": "python",
   "pygments_lexer": "ipython3",
   "version": "3.8.18"
  }
 },
 "nbformat": 4,
 "nbformat_minor": 4
}
