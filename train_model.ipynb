{
 "cells": [
  {
   "cell_type": "markdown",
   "metadata": {
    "colab_type": "text",
    "id": "view-in-github"
   },
   "source": [
    "<a href=\"https://colab.research.google.com/github/saheedniyi02/fpl-ai/blob/master/train_model.ipynb\" target=\"_parent\"><img src=\"https://colab.research.google.com/assets/colab-badge.svg\" alt=\"Open In Colab\"/></a>"
   ]
  },
  {
   "cell_type": "code",
   "execution_count": 1,
   "metadata": {
    "id": "raKucNuxIcQd"
   },
   "outputs": [],
   "source": [
    "forward_statistics =['value', 'was_home', 'last_season_position', 'percent_value',\n",
    "       'position rank', 'goals_scored_ex', 'assists_ex', 'total_points_ex',\n",
    "       'minutes_ex', 'goals_conceded_ex', 'creativity_ex', 'influence_ex',\n",
    "       'threat_ex', 'bonus_ex', 'bps_ex', 'ict_index_ex', 'now_cost_ex', 'GW', 'opponent_last_season_position',\n",
    "        'mean assists 3','mean bonus 3', 'mean bps 3','mean creativity 3', 'mean goals_scored 3',\n",
    "       'mean ict_index 3', 'mean influence 3', 'mean minutes 3', 'mean penalties_missed 3',  'mean threat 3',\n",
    "       'mean total_points 3','mean value 3', 'mean match_result 3', 'std bps 3', 'std creativity 3',\n",
    "       'std ict_index 3', 'std influence 3', 'std minutes 3',\n",
    "       'std threat 3', 'std total_points 3', 'std value 3']\n",
    "\n",
    "leak_columns = [\n",
    "    \"name\",\n",
    "    \"team\",\n",
    "]  # columns that shouldnt be used in training fir fear of data leakage\n",
    "\n",
    "\n",
    "dropped_columns = [\n",
    "    \"season\",\n",
    "    \"opponent\",\n",
    "    \"match_result\",\n",
    "   # \"position\",\n",
    "    \"assists\",\n",
    "    \"penalties_missed\",\n",
    "    \"bonus\",\n",
    "    \"bps\",\n",
    "    \"clean_sheets\",\n",
    "    \"creativity\",\n",
    "    \"goals_conceded\",\n",
    "    \"goals_scored\",\n",
    "    \"ict_index\",\n",
    "    \"influence\",\n",
    "    \"own_goals\",\n",
    "    \"penalties_saved\",\n",
    "    \"red_cards\",\n",
    "    \"saves\",\n",
    "    \"selected\",\n",
    "    \"threat\",\n",
    "    \"transfers_balance\",\n",
    "    \"transfers_in\",\n",
    "    \"transfers_out\",\n",
    "    \"yellow_cards\",\n",
    "    \"team Goal scored\",\n",
    "    \"team Goal conceded\"\n",
    "]  # \"value\",\n",
    "\n",
    "midfielder_statistics =['value', 'was_home', 'last_season_position', 'percent_value',\n",
    "       'position rank', 'goals_scored_ex', 'assists_ex', 'total_points_ex',\n",
    "       'minutes_ex', 'goals_conceded_ex', 'creativity_ex', 'influence_ex',\n",
    "       'threat_ex', 'bonus_ex', 'bps_ex', 'ict_index_ex', 'now_cost_ex', 'GW', 'opponent_last_season_position',\n",
    "        'mean assists 3','mean bonus 3', 'mean bps 3','mean creativity 3', 'mean goals_scored 3',\n",
    "       'mean ict_index 3', 'mean influence 3', 'mean minutes 3', 'mean penalties_missed 3',  'mean threat 3',\n",
    "       'mean total_points 3','mean value 3', 'mean match_result 3', 'std bps 3', 'std creativity 3',\n",
    "       'std ict_index 3', 'std influence 3', 'std minutes 3',\n",
    "       'std threat 3', 'std total_points 3', 'std value 3']\n",
    "\n",
    "goalkeeper_statistics = ['value', 'was_home', 'last_season_position', 'percent_value',\n",
    "       'position rank', 'total_points_ex', 'minutes_ex', 'goals_conceded_ex',\n",
    "       'bonus_ex', 'bps_ex', 'ict_index_ex', 'clean_sheets_ex',\n",
    "       'red_cards_ex', 'now_cost_ex', 'GW', 'opponent_last_season_position',\n",
    "       'mean bonus 3', 'mean bps 3', 'mean clean_sheets 3', 'mean goals_conceded 3',\n",
    "       'mean ict_index 3',  'mean minutes 3',\n",
    "       'mean own_goals 3',  'mean penalties_saved 3',\n",
    "        'mean saves 3',  'mean threat 3',\n",
    "       'mean total_points 3',\n",
    "       'mean value 3', 'mean match_result 3', 'std bps 3',\n",
    "       'std ict_index 3', 'std influence 3', 'std minutes 3',\n",
    "       'std threat 3', 'std total_points 3', 'std value 3']\n",
    "\n",
    "statistics =['value', 'position','was_home', 'last_season_position', 'percent_value',\n",
    "       'position rank', 'goals_scored_ex', 'assists_ex', 'total_points_ex',\n",
    "       'minutes_ex', 'goals_conceded_ex', 'creativity_ex', 'influence_ex',\n",
    "       'threat_ex', 'bonus_ex', 'bps_ex', 'ict_index_ex', 'clean_sheets_ex',\n",
    "       'yellow_cards_ex','now_cost_ex', 'GW', 'opponent_last_season_position', 'mean assists 3',\n",
    "       'mean bonus 3', 'mean bps 3', 'mean clean_sheets 3',\n",
    "       'mean creativity 3', 'mean goals_conceded 3', 'mean goals_scored 3',\n",
    "       'mean ict_index 3', 'mean influence 3', 'mean minutes 3',\n",
    "       'mean own_goals 3',\n",
    "       'mean red_cards 3',  'mean threat 3','mean total_points 3',\n",
    "       'mean value 3', 'mean match_result 3', 'std bps 3', 'std creativity 3',\n",
    "       'std ict_index 3', 'std influence 3', 'std minutes 3',\n",
    "       'std threat 3', 'std total_points 3', 'std value 3','mean saves 3','mean assists all',\n",
    "       'mean bonus all', 'mean bps all', 'mean clean_sheets all',\n",
    "       'mean creativity all', 'mean goals_conceded all', 'mean goals_scored all',\n",
    "       'mean ict_index all', 'mean influence all', 'mean minutes all',\n",
    "       'mean own_goals all',\n",
    "       'mean red_cards all',  'mean threat all','mean total_points all',\n",
    "       'mean value all', 'mean match_result all',\n",
    "       'mean team Goal scored 3','mean team Goal scored all','mean team Goal conceded 3','mean team Goal conceded all',\"ratio_goal_scored all\",\"ratio_goal_scored 3\",\n",
    "       'opp mean team Goal scored 3','opp mean team Goal conceded 3','opp mean team Goal scored all','opp mean team Goal conceded all',\"opp mean match_result all\"]\n",
    "\n",
    "\n",
    "date_cols=[\"day_of week\",\"month\",\"hour\",\"week\"]"
   ]
  },
  {
   "cell_type": "code",
   "execution_count": 2,
   "metadata": {
    "id": "n42gWU8iME6S"
   },
   "outputs": [],
   "source": [
    "def convert_minutes(val):\n",
    "    \"\"\"CONVERTS MINUTES TO A CATEGORICAL OUTPUT\"\"\"\n",
    "    if val > 10:\n",
    "        return 1\n",
    "    else:\n",
    "        return 0\n",
    "gameweek=17"
   ]
  },
  {
   "cell_type": "code",
   "execution_count": 3,
   "metadata": {
    "colab": {
     "base_uri": "https://localhost:8080/"
    },
    "id": "_NfkZfXAnuRr",
    "outputId": "96fd14fb-21c0-4318-a883-589d7915a124"
   },
   "outputs": [],
   "source": [
    "# !pip install catboost\n",
    "# !pip install hyperopt\n",
    "# !pip install lightgbm"
   ]
  },
  {
   "cell_type": "code",
   "execution_count": 4,
   "metadata": {
    "id": "4fUTYkPMKCnU"
   },
   "outputs": [],
   "source": [
    "from hyperopt import tpe,hp,fmin,STATUS_OK,Trials\n",
    "from hyperopt.pyll.base import scope"
   ]
  },
  {
   "cell_type": "code",
   "execution_count": 5,
   "metadata": {
    "id": "_x6NGUGwIo3O"
   },
   "outputs": [],
   "source": [
    "import pandas as pd\n",
    "import numpy as np\n",
    "import warnings\n",
    "import os\n",
    "\n",
    "\n",
    "warnings.filterwarnings(\"ignore\")\n",
    "from sklearn.model_selection import train_test_split\n",
    "from sklearn.pipeline import Pipeline\n",
    "from sklearn.ensemble import (\n",
    "    RandomForestClassifier,\n",
    "    RandomForestRegressor,\n",
    "    GradientBoostingRegressor,\n",
    ")\n",
    "from sklearn.preprocessing import StandardScaler, RobustScaler, MinMaxScaler\n",
    "from sklearn.impute import SimpleImputer\n",
    "from sklearn.linear_model import LinearRegression, Lasso, Ridge\n",
    "from sklearn.metrics import (\n",
    "    mean_squared_error,\n",
    "    mean_absolute_error,\n",
    "    confusion_matrix,\n",
    "    accuracy_score,\n",
    "    f1_score,\n",
    ")\n",
    "from lightgbm import LGBMRegressor, LGBMClassifier\n",
    "from catboost import CatBoostClassifier, CatBoostRegressor\n",
    "from sklearn.model_selection import StratifiedKFold,KFold"
   ]
  },
  {
   "cell_type": "code",
   "execution_count": null,
   "metadata": {
    "id": "NLHG8cabKXAo"
   },
   "outputs": [],
   "source": []
  },
  {
   "cell_type": "code",
   "execution_count": 6,
   "metadata": {
    "id": "KAEVPF2eKiR2"
   },
   "outputs": [],
   "source": [
    "train = pd.read_csv(\"cleaned_dataset/cleaned_previous_seasons.csv\",index_col=0)#/content/drive/MyDrive/Fplpredict /cleaned_previous_seasons.csv\", index_col=0)\n",
    "old_gameweek_cleaned = []\n",
    "for i in range(1, gameweek):\n",
    "    old_gameweek_cleaned.append(pd.read_csv(f\"cleaned_dataset/2023-24/GW{i}.csv\"))\n",
    "old_gameweeks = pd.concat(old_gameweek_cleaned)[train.columns]\n",
    "train = pd.concat([train, old_gameweeks])\n",
    "\n",
    "# data for current gameweek we want to predict on\n",
    "test = pd.read_csv(f\"cleaned_dataset/2023-24/GW{gameweek}.csv\", index_col=0)"
   ]
  },
  {
   "cell_type": "code",
   "execution_count": 7,
   "metadata": {
    "colab": {
     "base_uri": "https://localhost:8080/"
    },
    "id": "ldHF-c7SKu67",
    "outputId": "f373d7e3-511c-4a51-a5c1-a0d38983d2e9"
   },
   "outputs": [
    {
     "name": "stdout",
     "output_type": "stream",
     "text": [
      "Folder predicted_dataset/GW17 already exists\n"
     ]
    }
   ],
   "source": [
    "#CREATE GAMEWEEK PREDICTIONS FOLDER\n",
    "path = f\"predicted_dataset/GW{gameweek}\"\n",
    "\n",
    "# create new single directory\n",
    "# check whether directory already exists\n",
    "if not os.path.exists(path):\n",
    "    os.mkdir(path)\n",
    "    print(\"Folder %s created!\" % path)\n",
    "else:\n",
    "    print(\"Folder %s already exists\" % path)\n",
    "\n",
    "# data from current season but previous gameweeks"
   ]
  },
  {
   "cell_type": "code",
   "execution_count": 151,
   "metadata": {
    "colab": {
     "base_uri": "https://localhost:8080/"
    },
    "id": "lGLtePuRjy7Y",
    "outputId": "64fa7c9e-daa3-45c6-c5df-8947ba4706f5"
   },
   "outputs": [
    {
     "data": {
      "text/plain": [
       "MID    36147\n",
       "DEF    29940\n",
       "FWD    10930\n",
       "GK      8368\n",
       "GKP     1293\n",
       "Name: position, dtype: int64"
      ]
     },
     "execution_count": 151,
     "metadata": {},
     "output_type": "execute_result"
    }
   ],
   "source": [
    "train[\"position\"].value_counts()"
   ]
  },
  {
   "cell_type": "code",
   "execution_count": 152,
   "metadata": {
    "id": "bsJ6_Ruej9Gl"
   },
   "outputs": [],
   "source": [
    "train[\"position\"]=train[\"position\"].replace({\"GKP\":\"GK\" })"
   ]
  },
  {
   "cell_type": "code",
   "execution_count": 153,
   "metadata": {
    "id": "FGI39XN-kYzz"
   },
   "outputs": [],
   "source": [
    "test = test[train.columns]\n",
    "train_copy = train.copy()\n",
    "test_copy = test.copy()\n",
    "\n",
    "train[\"index\"] = train[\"name\"] + train[\"kickoff_time\"].astype(\"str\")\n",
    "train.drop_duplicates(\"index\", keep=\"last\", inplace=True)\n",
    "train= train.set_index(\"index\")\n",
    "train[\"date\"]=pd.to_datetime(train[\"kickoff_time\"])\n",
    "train[\"day_of week\"]=train[\"date\"].dt.day_name\n",
    "train[\"month\"]=train[\"date\"].dt.month\n",
    "train[\"hour\"]=train[\"date\"].dt.hour\n",
    "train[\"week\"]=train[\"date\"].dt.week\n",
    "train.drop([\"kickoff_time\",\"date\"], axis=1, inplace=True)\n",
    "\n",
    "test[\"index\"] = test[\"name\"] + test[\"kickoff_time\"].astype(\"str\")\n",
    "test= test.set_index(\"index\")\n",
    "test[\"date\"]=pd.to_datetime(test[\"kickoff_time\"])\n",
    "test[\"day_of week\"]=test[\"date\"].dt.day_name\n",
    "test[\"month\"]=test[\"date\"].dt.month\n",
    "test[\"hour\"]=test[\"date\"].dt.hour\n",
    "test[\"week\"]=test[\"date\"].dt.week\n",
    "test.drop([\"kickoff_time\",\"date\"], axis=1, inplace=True)\n",
    "train[\"minutes\"] = train[\"minutes\"].apply(convert_minutes)\n",
    "\n",
    "target = train[[\"minutes\", \"GW\",\"position\" ]]\n",
    "train.drop([\"total_points\", \"minutes\"], axis=1, inplace=True)\n",
    "test.drop([\"total_points\", \"minutes\"], axis=1, inplace=True)\n",
    "# train.drop(dropped_columns, axis=1, inplace=True)\n",
    "# test.drop(dropped_columns, axis=1, inplace=True)\n",
    "\n",
    "\n",
    "# Convert categorical columns to numerical\n",
    "for col in train.columns:\n",
    "    if train[col].dtype == \"object\":\n",
    "        if col not in [\"team\", \"name\",\"position\"]:\n",
    "            train[col] = pd.factorize(train[col])[0]\n",
    "            test[col] = pd.factorize(test[col])[0]\n",
    "\n",
    "train[\"was_home\"] = train[\"was_home\"].replace({True: 0, False: 1})\n",
    "test[\"was_home\"] = test[\"was_home\"].replace({True: 0, False: 1})\n",
    "\n",
    "# train = train[statistics + leak_columns+date_cols]\n",
    "# test = test[statistics + leak_columns+date_cols]\n",
    "\n",
    "x, val, y, y_val = train_test_split(\n",
    "    train.drop(leak_columns, axis=1),\n",
    "    target[\"minutes\"],\n",
    "    test_size=0.1,\n",
    "    random_state=0,\n",
    ")"
   ]
  },
  {
   "cell_type": "code",
   "execution_count": 154,
   "metadata": {},
   "outputs": [
    {
     "name": "stdout",
     "output_type": "stream",
     "text": [
      "(86515, 86)\n",
      "(765, 86)\n"
     ]
    }
   ],
   "source": [
    "# train.keys\n",
    "print(train.shape)\n",
    "print(test.shape)"
   ]
  },
  {
   "cell_type": "code",
   "execution_count": 155,
   "metadata": {
    "id": "Pc5EqQqLn8ZN"
   },
   "outputs": [],
   "source": [
    "params={'colsample_bylevel': 0.8070621518153563, 'learning_rate': 0.04765984972709895, 'max_depth': 7, 'reg_lambda': 5, 'scale_pos_weight': 2.5,'subsample': 0.6794390204583894}\n",
    "model=CatBoostClassifier(**params,cat_features=[\"position\"],random_state=0,early_stopping_rounds=500,use_best_model=True,verbose=500,n_estimators=10000)"
   ]
  },
  {
   "cell_type": "code",
   "execution_count": 156,
   "metadata": {
    "colab": {
     "base_uri": "https://localhost:8080/"
    },
    "id": "ORnl_n6fnJut",
    "outputId": "781e1595-7059-4828-f514-76714abca6b9"
   },
   "outputs": [
    {
     "name": "stdout",
     "output_type": "stream",
     "text": [
      "0:\tlearn: 0.6004799\ttest: 0.6004432\tbest: 0.6004432 (0)\ttotal: 50.3ms\tremaining: 8m 23s\n",
      "500:\tlearn: 0.0337160\ttest: 0.0410267\tbest: 0.0410136 (491)\ttotal: 23.2s\tremaining: 7m 19s\n",
      "1000:\tlearn: 0.0269846\ttest: 0.0405909\tbest: 0.0405854 (996)\ttotal: 46.5s\tremaining: 6m 57s\n",
      "1500:\tlearn: 0.0221590\ttest: 0.0406678\tbest: 0.0405009 (1142)\ttotal: 1m 9s\tremaining: 6m 35s\n",
      "Stopped by overfitting detector  (500 iterations wait)\n",
      "\n",
      "bestTest = 0.04050091097\n",
      "bestIteration = 1142\n",
      "\n",
      "Shrink model to first 1143 iterations.\n"
     ]
    },
    {
     "data": {
      "text/plain": [
       "<catboost.core.CatBoostClassifier at 0x150eeb84d820>"
      ]
     },
     "execution_count": 156,
     "metadata": {},
     "output_type": "execute_result"
    }
   ],
   "source": [
    "model.fit(x, y,eval_set=[(val,y_val)])"
   ]
  },
  {
   "cell_type": "code",
   "execution_count": 157,
   "metadata": {
    "colab": {
     "base_uri": "https://localhost:8080/"
    },
    "id": "ZD0zoDWto5j0",
    "outputId": "23b3cd81-a9fc-4512-bd9a-3f3c33c03489"
   },
   "outputs": [
    {
     "name": "stdout",
     "output_type": "stream",
     "text": [
      "[[5075   21]\n",
      " [ 154 3402]]\n",
      "starting Accuracy score 0.9797734627831716\n",
      " starting f1 score: 0.9749247743229688\n"
     ]
    }
   ],
   "source": [
    "print(confusion_matrix(model.predict(val), y_val))\n",
    "print(\n",
    "    f\"starting Accuracy score {accuracy_score(model.predict(val), y_val)}\"\n",
    ")\n",
    "\n",
    "print(\n",
    "    f\" starting f1 score: {f1_score(model.predict(val), y_val)}\"\n",
    ")\n",
    "\n",
    "feature_importance = pd.DataFrame(\n",
    "    {\"column\": x.columns, \"imp\": model.feature_importances_}\n",
    ").sort_values(\n",
    "    \"imp\", ascending=False\n",
    ")  #"
   ]
  },
  {
   "cell_type": "markdown",
   "metadata": {
    "id": "IaWuoInwvtp2"
   },
   "source": [
    "[[3863  267]\n",
    " [ 975 2862]]\n",
    "starting Accuracy score 0.8441069411321702\n",
    " starting f1 score: 0.8217054263565893"
   ]
  },
  {
   "cell_type": "code",
   "execution_count": 158,
   "metadata": {
    "colab": {
     "base_uri": "https://localhost:8080/",
     "height": 1000
    },
    "id": "a0UEd4_cTO4r",
    "outputId": "d743f842-36d0-4c02-fd55-32d308bcf22d"
   },
   "outputs": [],
   "source": [
    "# feature_importance.head(50)"
   ]
  },
  {
   "cell_type": "code",
   "execution_count": 159,
   "metadata": {
    "colab": {
     "base_uri": "https://localhost:8080/",
     "height": 676
    },
    "id": "W5lDoiNUpJtN",
    "outputId": "ea973f25-021d-4cde-fdcc-f2330599e47e"
   },
   "outputs": [],
   "source": [
    "# feature_importance.tail(20)"
   ]
  },
  {
   "cell_type": "code",
   "execution_count": 160,
   "metadata": {
    "colab": {
     "base_uri": "https://localhost:8080/"
    },
    "id": "_LNgj0zfBh5y",
    "outputId": "5a0e03e6-dfdd-4b5a-f895-4938ef2200af"
   },
   "outputs": [],
   "source": [
    "# y_val"
   ]
  },
  {
   "cell_type": "code",
   "execution_count": 161,
   "metadata": {
    "id": "mZrjfnMwpYAP"
   },
   "outputs": [],
   "source": [
    "# test_copy[\"minutes\"] = model.predict(test.drop(leak_columns, axis=1))\n",
    "test_copy[\"minutes\"] = model.predict(test.drop(leak_columns, axis=1))\n",
    "\n",
    "test_copy[leak_columns + [\"minutes\"]].to_csv(\n",
    "    f\"minutes.csv\"\n",
    ")"
   ]
  },
  {
   "cell_type": "code",
   "execution_count": 162,
   "metadata": {
    "id": "Crlq1n1JBd5b"
   },
   "outputs": [],
   "source": [
    "predicted_minutes=model.predict(val)\n",
    "val_=pd.DataFrame({\"ind\":val.index,\"actul_minutes\":y_val,\"predicted_minutes\":predicted_minutes,\"position\":val[\"position\"]})"
   ]
  },
  {
   "cell_type": "code",
   "execution_count": 163,
   "metadata": {
    "colab": {
     "base_uri": "https://localhost:8080/"
    },
    "id": "DBc8-KNlDbeG",
    "outputId": "e64dd990-35b7-4f28-b37c-d3ac024ee6ea"
   },
   "outputs": [
    {
     "name": "stdout",
     "output_type": "stream",
     "text": [
      "STARTING GOALKEEPERS PERFORMANCE!!!\n",
      "[[681   0]\n",
      " [  0 272]]\n",
      "starting Accuracy score 1.0\n",
      " starting f1 score: 1.0\n"
     ]
    }
   ],
   "source": [
    "print(f\"STARTING GOALKEEPERS PERFORMANCE!!!\")\n",
    "a=val_[val_[\"position\"]==\"GK\"][\"actul_minutes\"]\n",
    "b=val_[val_[\"position\"]==\"GK\"][\"predicted_minutes\"]\n",
    "print(confusion_matrix(a,b))\n",
    "print(\n",
    "    f\"starting Accuracy score {accuracy_score(a,b)}\"\n",
    ")\n",
    "\n",
    "print(\n",
    "    f\" starting f1 score: {f1_score(a,b)}\"\n",
    ")"
   ]
  },
  {
   "cell_type": "markdown",
   "metadata": {
    "id": "z3zLvWZmC5Vh"
   },
   "source": [
    "STARTING GOALKEEPERS PERFORMANCE!!!\n",
    "[[583  21]\n",
    " [ 24 216]]\n",
    "starting Accuracy score 0.9466824644549763\n",
    " starting f1 score: 0.9056603773584907\n",
    "\n",
    "STARTING DEFENDERS PERFORMANCE!!!\n",
    "[[1449  208]\n",
    " [ 200  915]]\n",
    "starting Accuracy score 0.8528138528138528\n",
    " starting f1 score: 0.817694369973190\n",
    "\n",
    "STARTING MIDFIELDERS PERFORMANCE!!!\n",
    "[[1595  288]\n",
    " [ 235 1195]]\n",
    "starting Accuracy score 0.8421370359191066\n",
    " starting f1 score: 0.820460006865774\n",
    "\n",
    "STARTING FORWARDS PERFORMANCE!!!\n",
    "[[497  88]\n",
    " [ 69 325]]\n",
    "starting Accuracy score 0.839632277834525\n",
    " starting f1 score: 0.8054522924411399"
   ]
  },
  {
   "cell_type": "code",
   "execution_count": 164,
   "metadata": {
    "colab": {
     "base_uri": "https://localhost:8080/"
    },
    "id": "FXFtoCzvECJZ",
    "outputId": "d176ee4f-e3ff-4d82-f5c7-b2a6ffbb040c"
   },
   "outputs": [
    {
     "name": "stdout",
     "output_type": "stream",
     "text": [
      "STARTING DEFENDERS PERFORMANCE!!!\n",
      "[[1749   36]\n",
      " [   7 1154]]\n",
      "starting Accuracy score 0.9854039375424304\n",
      " starting f1 score: 0.981709910676308\n"
     ]
    }
   ],
   "source": [
    "print(f\"STARTING DEFENDERS PERFORMANCE!!!\")\n",
    "a=val_[val_[\"position\"]==\"DEF\"][\"actul_minutes\"]\n",
    "b=val_[val_[\"position\"]==\"DEF\"][\"predicted_minutes\"]\n",
    "print(confusion_matrix(a,b))\n",
    "print(\n",
    "    f\"starting Accuracy score {accuracy_score(a,b)}\"\n",
    ")\n",
    "\n",
    "print(\n",
    "    f\" starting f1 score: {f1_score(a,b)}\"\n",
    ")"
   ]
  },
  {
   "cell_type": "code",
   "execution_count": 165,
   "metadata": {
    "colab": {
     "base_uri": "https://localhost:8080/"
    },
    "id": "lhgC0BAdD7xZ",
    "outputId": "f3de6e5e-74d7-4f7c-e22b-21be0d28af4f"
   },
   "outputs": [
    {
     "name": "stdout",
     "output_type": "stream",
     "text": [
      "STARTING MIDFIELDERS PERFORMANCE!!!\n",
      "[[2018   89]\n",
      " [  10 1532]]\n",
      "starting Accuracy score 0.9728692792545903\n",
      " starting f1 score: 0.9687006006955422\n"
     ]
    }
   ],
   "source": [
    "print(f\"STARTING MIDFIELDERS PERFORMANCE!!!\")\n",
    "a=val_[val_[\"position\"]==\"MID\"][\"actul_minutes\"]\n",
    "b=val_[val_[\"position\"]==\"MID\"][\"predicted_minutes\"]\n",
    "print(confusion_matrix(a,b))\n",
    "print(\n",
    "    f\"starting Accuracy score {accuracy_score(a,b)}\"\n",
    ")\n",
    "\n",
    "print(\n",
    "    f\" starting f1 score: {f1_score(a,b)}\"\n",
    ")"
   ]
  },
  {
   "cell_type": "code",
   "execution_count": 166,
   "metadata": {
    "colab": {
     "base_uri": "https://localhost:8080/"
    },
    "id": "OlE-qPpSEFOA",
    "outputId": "285f3d00-99b5-49f5-98c6-c06050571ecb"
   },
   "outputs": [
    {
     "name": "stdout",
     "output_type": "stream",
     "text": [
      "STARTING FORWARDS PERFORMANCE!!!\n",
      "[[627  29]\n",
      " [  4 444]]\n",
      "starting Accuracy score 0.970108695652174\n",
      " starting f1 score: 0.9641693811074918\n"
     ]
    }
   ],
   "source": [
    "print(f\"STARTING FORWARDS PERFORMANCE!!!\")\n",
    "a=val_[val_[\"position\"]==\"FWD\"][\"actul_minutes\"]\n",
    "b=val_[val_[\"position\"]==\"FWD\"][\"predicted_minutes\"]\n",
    "print(confusion_matrix(a,b))\n",
    "print(\n",
    "    f\"starting Accuracy score {accuracy_score(a,b)}\"\n",
    ")\n",
    "\n",
    "print(\n",
    "    f\" starting f1 score: {f1_score(a,b)}\"\n",
    ")"
   ]
  },
  {
   "cell_type": "code",
   "execution_count": 167,
   "metadata": {
    "colab": {
     "base_uri": "https://localhost:8080/"
    },
    "id": "QidLuN2qpwHI",
    "outputId": "1d9f4dad-5139-44c9-e662-0c950fc82fe9"
   },
   "outputs": [
    {
     "data": {
      "text/plain": [
       "Series([], Name: position, dtype: int64)"
      ]
     },
     "execution_count": 167,
     "metadata": {},
     "output_type": "execute_result"
    }
   ],
   "source": [
    "test_copy[test_copy[\"minutes\"]==1][\"position\"].value_counts()"
   ]
  },
  {
   "cell_type": "code",
   "execution_count": 168,
   "metadata": {
    "id": "E5XuG1jhpt4s"
   },
   "outputs": [
    {
     "name": "stdout",
     "output_type": "stream",
     "text": [
      "(36606, 85)\n",
      "(0, 85)\n"
     ]
    }
   ],
   "source": [
    "train = train_copy[train_copy[\"minutes\"] > 0]\n",
    "test = test_copy[test_copy[\"minutes\"] > 0]\n",
    "\n",
    "print(train.shape)\n",
    "print(test.shape)"
   ]
  },
  {
   "cell_type": "code",
   "execution_count": 124,
   "metadata": {
    "id": "L5DlE5tLsWo8"
   },
   "outputs": [],
   "source": [
    "\n",
    "# predict points\n",
    "train[\"index\"] = train[\"name\"] + train[\"kickoff_time\"].astype(\"str\")\n",
    "train.drop_duplicates(\"index\", keep=\"last\", inplace=True)\n",
    "train= train.set_index(\"index\")\n",
    "train[\"date\"]=pd.to_datetime(train[\"kickoff_time\"])\n",
    "train[\"day_of week\"]=train[\"date\"].dt.day_name\n",
    "train[\"month\"]=train[\"date\"].dt.month\n",
    "train[\"hour\"]=train[\"date\"].dt.hour\n",
    "train[\"week\"]=train[\"date\"].dt.week\n",
    "train.drop([\"kickoff_time\",\"date\"], axis=1, inplace=True)\n",
    "\n",
    "test[\"index\"] = test[\"name\"] + test[\"kickoff_time\"].astype(\"str\")\n",
    "test = test.set_index(\"index\")\n",
    "test[\"date\"]=pd.to_datetime(test[\"kickoff_time\"])\n",
    "test[\"day_of week\"]=test[\"date\"].dt.day_name\n",
    "test[\"month\"]=test[\"date\"].dt.month\n",
    "test[\"hour\"]=test[\"date\"].dt.hour\n",
    "test[\"week\"]=test[\"date\"].dt.week\n",
    "test.drop([\"kickoff_time\",\"date\"], axis=1, inplace=True)\n",
    "\n",
    "target = train[[\"total_points\", \"GW\",\"position\" ]]\n",
    "train.drop([\"total_points\", \"minutes\"], axis=1, inplace=True)\n",
    "test.drop([\"total_points\", \"minutes\"], axis=1, inplace=True)\n",
    "# train.drop(dropped_columns, axis=1, inplace=True)\n",
    "# test.drop(dropped_columns, axis=1, inplace=True)\n",
    "\n",
    "\n",
    "for col in train.columns:\n",
    "    if train[col].dtype == \"object\":\n",
    "        if col not in [\"team\", \"name\",\"position\"]:\n",
    "            train[col] = pd.factorize(train[col])[0]\n",
    "            test[col] = pd.factorize(test[col])[0]\n",
    "\n",
    "train[\"position\"]=train[\"position\"].astype(\"category\")\n",
    "test[\"position\"]=test[\"position\"].astype(\"category\")\n",
    "train[\"was_home\"] = train[\"was_home\"].replace({True: 0, False: 1})\n",
    "test[\"was_home\"] = test[\"was_home\"].replace({True: 0, False: 1})\n",
    "\n",
    "# train = train[statistics + leak_columns+date_cols]\n",
    "# test= test[statistics + leak_columns+date_cols]\n",
    "\n",
    "x, val, y, y_val = train_test_split(\n",
    "    train.drop(leak_columns, axis=1),\n",
    "    target[\"total_points\"],\n",
    "    test_size=0.1,\n",
    "    random_state=0,\n",
    ")"
   ]
  },
  {
   "cell_type": "code",
   "execution_count": 125,
   "metadata": {
    "colab": {
     "base_uri": "https://localhost:8080/"
    },
    "id": "xNZGBu2FhgFj",
    "outputId": "c2370e4b-a4cd-4551-b96a-a837458b120d"
   },
   "outputs": [
    {
     "name": "stdout",
     "output_type": "stream",
     "text": [
      "1\n",
      "(36261, 86)\n",
      "(275, 86)\n",
      "2\n",
      "(36261, 86)\n",
      "(275, 86)\n",
      "3\n",
      "(36261, 86)\n",
      "(275, 86)\n",
      "4\n",
      "(36261, 86)\n",
      "(275, 86)\n",
      "5\n",
      "(36261, 86)\n",
      "(275, 86)\n",
      "6\n",
      "(36261, 86)\n",
      "(275, 86)\n",
      "7\n",
      "(36261, 86)\n",
      "(275, 86)\n",
      "8\n",
      "(36261, 86)\n",
      "(275, 86)\n",
      "[0.3075120598428029, 0.3313043213964431, 0.30399343628970693, 0.313598482155166, 0.3159639171947073, 0.33103955276947383, 0.3199626145714969, 0.3338618037311383]\n",
      "[0.23496718929023303, 0.23540772150492076, 0.23558363216513445, 0.23580305068105972, 0.23533406006021343, 0.2357738480763343, 0.23440760341313693, 0.2370243783905846]\n"
     ]
    }
   ],
   "source": [
    "from sklearn.model_selection import KFold\n",
    "\n",
    "#cross_validator to splite the data into folds\n",
    "folds=KFold(n_splits=8,shuffle=True,random_state=0)\n",
    "\n",
    "#a dataframe to store the predictions made by each fold\n",
    "predictions_df=pd.DataFrame()\n",
    "\n",
    "#list to save the mean absolute errors from validatingon each folds\n",
    "rmse_val=[]\n",
    "rmse_X=[]\n",
    "\n",
    "#a simple catboost regressor\n",
    "model=LGBMRegressor(**{'colsample_bytree': 0.4199299182268318, 'learning_rate': 0.0032874466037521254, 'max_depth': 9, 'min_split_gain': 0.5685369160138952, 'num_leaves': 99, 'reg_alpha': 0.5621526419488447, 'reg_lambda': 0, 'subsample': 0.6534153111773866}, verbose=-50,random_state=0,early_stopping_rounds=200,n_estimators=10000)\n",
    "\n",
    "#train model, make predictions and check the validation accuracy on  each fold\n",
    "for i,(train_index,test_index) in enumerate(folds.split(train.drop(leak_columns, axis=1),target[\"total_points\"])):\n",
    "    train_fold=train.drop(leak_columns, axis=1).iloc[train_index]\n",
    "    val_fold=train.drop(leak_columns, axis=1).iloc[test_index]\n",
    "    y_fold=target[\"total_points\"].iloc[train_index]\n",
    "    y_val_fold=target[\"total_points\"].iloc[test_index]\n",
    "\n",
    "\n",
    "    model.fit(train_fold,y_fold,eval_set=[(val_fold,y_val_fold)])\n",
    "    print(i+1)\n",
    "    print(train.shape)\n",
    "    print(test.shape)\n",
    "    prediction=model.predict(test.drop(leak_columns, axis=1))\n",
    "    predictions_df[i]=prediction\n",
    "    rmse_val.append(mean_squared_error(model.predict(val_fold),y_val_fold,squared=False))\n",
    "    rmse_X.append(mean_squared_error(model.predict(train_fold),y_fold,squared=False))\n",
    "print(rmse_val)\n",
    "print(rmse_X)"
   ]
  },
  {
   "cell_type": "code",
   "execution_count": 126,
   "metadata": {
    "colab": {
     "base_uri": "https://localhost:8080/"
    },
    "id": "R6NBjO7yzPOT",
    "outputId": "aba2700f-3bf3-4d76-b98c-d83f602aba81"
   },
   "outputs": [
    {
     "name": "stdout",
     "output_type": "stream",
     "text": [
      "0.3196545234938669\n",
      "0.23553768544770215\n"
     ]
    }
   ],
   "source": [
    "print(np.mean(rmse_val))\n",
    "print(np.mean(rmse_X))\n",
    "#2.7575293874474336\n",
    "#2.0174134721607295"
   ]
  },
  {
   "cell_type": "markdown",
   "metadata": {
    "id": "475Nb44Amx4V"
   },
   "source": [
    "2.7320675301713573\n",
    "1.6917027774360753"
   ]
  },
  {
   "cell_type": "code",
   "execution_count": 127,
   "metadata": {
    "colab": {
     "base_uri": "https://localhost:8080/"
    },
    "id": "-kDj3_xeq8Ia",
    "outputId": "be804606-b981-46e4-e9b3-2d50216e1b75"
   },
   "outputs": [
    {
     "data": {
      "text/plain": [
       "0      9.144303\n",
       "1      1.747099\n",
       "2      2.071056\n",
       "3      4.962048\n",
       "4      2.384626\n",
       "         ...   \n",
       "270    1.008705\n",
       "271    1.193375\n",
       "272    4.900014\n",
       "273    8.039949\n",
       "274    4.640778\n",
       "Name: 0, Length: 275, dtype: float64"
      ]
     },
     "execution_count": 127,
     "metadata": {},
     "output_type": "execute_result"
    }
   ],
   "source": [
    "predictions_df[0]"
   ]
  },
  {
   "cell_type": "code",
   "execution_count": 128,
   "metadata": {
    "id": "W_b08Rfnp76c"
   },
   "outputs": [],
   "source": [
    "test[\"points\"]=np.mean(predictions_df, axis=1).values\n",
    "\n",
    "test[leak_columns + [\"points\", \"value\"]].sort_values(\n",
    "    \"points\", ascending=False\n",
    ").to_csv(\"points.csv\")"
   ]
  },
  {
   "cell_type": "code",
   "execution_count": 129,
   "metadata": {
    "colab": {
     "base_uri": "https://localhost:8080/",
     "height": 425
    },
    "id": "g-ibL8BVAR2e",
    "outputId": "c58bf3f6-fd8b-4fa9-8505-8047b5417e6e"
   },
   "outputs": [
    {
     "data": {
      "text/html": [
       "<div>\n",
       "<style scoped>\n",
       "    .dataframe tbody tr th:only-of-type {\n",
       "        vertical-align: middle;\n",
       "    }\n",
       "\n",
       "    .dataframe tbody tr th {\n",
       "        vertical-align: top;\n",
       "    }\n",
       "\n",
       "    .dataframe thead th {\n",
       "        text-align: right;\n",
       "    }\n",
       "</style>\n",
       "<table border=\"1\" class=\"dataframe\">\n",
       "  <thead>\n",
       "    <tr style=\"text-align: right;\">\n",
       "      <th></th>\n",
       "      <th>name</th>\n",
       "      <th>points</th>\n",
       "      <th>team</th>\n",
       "    </tr>\n",
       "    <tr>\n",
       "      <th>index</th>\n",
       "      <th></th>\n",
       "      <th></th>\n",
       "      <th></th>\n",
       "    </tr>\n",
       "  </thead>\n",
       "  <tbody>\n",
       "    <tr>\n",
       "      <th>Son Heung-min2023-12-10T16:30:00Z</th>\n",
       "      <td>Son Heung-min</td>\n",
       "      <td>16.672894</td>\n",
       "      <td>Spurs</td>\n",
       "    </tr>\n",
       "    <tr>\n",
       "      <th>Richarlison de Andrade2023-12-10T16:30:00Z</th>\n",
       "      <td>Richarlison de Andrade</td>\n",
       "      <td>14.671592</td>\n",
       "      <td>Spurs</td>\n",
       "    </tr>\n",
       "    <tr>\n",
       "      <th>Mohamed Salah2023-12-09T12:30:00Z</th>\n",
       "      <td>Mohamed Salah</td>\n",
       "      <td>12.596883</td>\n",
       "      <td>Liverpool</td>\n",
       "    </tr>\n",
       "    <tr>\n",
       "      <th>Jack Grealish2023-12-10T14:00:00Z</th>\n",
       "      <td>Jack Grealish</td>\n",
       "      <td>9.933753</td>\n",
       "      <td>Man City</td>\n",
       "    </tr>\n",
       "    <tr>\n",
       "      <th>Simon Adingra2023-12-09T15:00:00Z</th>\n",
       "      <td>Simon Adingra</td>\n",
       "      <td>9.806450</td>\n",
       "      <td>Brighton</td>\n",
       "    </tr>\n",
       "    <tr>\n",
       "      <th>Abdoulaye Doucouré2023-12-10T14:00:00Z</th>\n",
       "      <td>Abdoulaye Doucouré</td>\n",
       "      <td>9.606363</td>\n",
       "      <td>Everton</td>\n",
       "    </tr>\n",
       "    <tr>\n",
       "      <th>Harry Wilson2023-12-10T14:00:00Z</th>\n",
       "      <td>Harry Wilson</td>\n",
       "      <td>9.341238</td>\n",
       "      <td>Fulham</td>\n",
       "    </tr>\n",
       "    <tr>\n",
       "      <th>John McGinn2023-12-09T17:30:00Z</th>\n",
       "      <td>John McGinn</td>\n",
       "      <td>9.206036</td>\n",
       "      <td>Aston Villa</td>\n",
       "    </tr>\n",
       "    <tr>\n",
       "      <th>Bernardo Veiga de Carvalho e Silva2023-12-10T14:00:00Z</th>\n",
       "      <td>Bernardo Veiga de Carvalho e Silva</td>\n",
       "      <td>9.117368</td>\n",
       "      <td>Man City</td>\n",
       "    </tr>\n",
       "    <tr>\n",
       "      <th>Lewis Cook2023-12-09T15:00:00Z</th>\n",
       "      <td>Lewis Cook</td>\n",
       "      <td>8.746527</td>\n",
       "      <td>Bournemouth</td>\n",
       "    </tr>\n",
       "    <tr>\n",
       "      <th>Marcus Tavernier2023-12-09T15:00:00Z</th>\n",
       "      <td>Marcus Tavernier</td>\n",
       "      <td>8.452660</td>\n",
       "      <td>Bournemouth</td>\n",
       "    </tr>\n",
       "  </tbody>\n",
       "</table>\n",
       "</div>"
      ],
      "text/plain": [
       "                                                                                  name  \\\n",
       "index                                                                                    \n",
       "Son Heung-min2023-12-10T16:30:00Z                                        Son Heung-min   \n",
       "Richarlison de Andrade2023-12-10T16:30:00Z                      Richarlison de Andrade   \n",
       "Mohamed Salah2023-12-09T12:30:00Z                                        Mohamed Salah   \n",
       "Jack Grealish2023-12-10T14:00:00Z                                        Jack Grealish   \n",
       "Simon Adingra2023-12-09T15:00:00Z                                        Simon Adingra   \n",
       "Abdoulaye Doucouré2023-12-10T14:00:00Z                              Abdoulaye Doucouré   \n",
       "Harry Wilson2023-12-10T14:00:00Z                                          Harry Wilson   \n",
       "John McGinn2023-12-09T17:30:00Z                                            John McGinn   \n",
       "Bernardo Veiga de Carvalho e Silva2023-12-10T14...  Bernardo Veiga de Carvalho e Silva   \n",
       "Lewis Cook2023-12-09T15:00:00Z                                              Lewis Cook   \n",
       "Marcus Tavernier2023-12-09T15:00:00Z                                  Marcus Tavernier   \n",
       "\n",
       "                                                       points         team  \n",
       "index                                                                       \n",
       "Son Heung-min2023-12-10T16:30:00Z                   16.672894        Spurs  \n",
       "Richarlison de Andrade2023-12-10T16:30:00Z          14.671592        Spurs  \n",
       "Mohamed Salah2023-12-09T12:30:00Z                   12.596883    Liverpool  \n",
       "Jack Grealish2023-12-10T14:00:00Z                    9.933753     Man City  \n",
       "Simon Adingra2023-12-09T15:00:00Z                    9.806450     Brighton  \n",
       "Abdoulaye Doucouré2023-12-10T14:00:00Z               9.606363      Everton  \n",
       "Harry Wilson2023-12-10T14:00:00Z                     9.341238       Fulham  \n",
       "John McGinn2023-12-09T17:30:00Z                      9.206036  Aston Villa  \n",
       "Bernardo Veiga de Carvalho e Silva2023-12-10T14...   9.117368     Man City  \n",
       "Lewis Cook2023-12-09T15:00:00Z                       8.746527  Bournemouth  \n",
       "Marcus Tavernier2023-12-09T15:00:00Z                 8.452660  Bournemouth  "
      ]
     },
     "execution_count": 129,
     "metadata": {},
     "output_type": "execute_result"
    }
   ],
   "source": [
    "test[test[\"position\"]==\"MID\"].sort_values(by=\"points\",ascending=False).head(11)[[\"name\",\"points\",\"team\"]]"
   ]
  },
  {
   "cell_type": "code",
   "execution_count": 131,
   "metadata": {
    "colab": {
     "base_uri": "https://localhost:8080/",
     "height": 394
    },
    "id": "R9-XbtdrAeyB",
    "outputId": "b6433746-a570-44ea-83ff-cb49732543c9"
   },
   "outputs": [
    {
     "data": {
      "text/html": [
       "<div>\n",
       "<style scoped>\n",
       "    .dataframe tbody tr th:only-of-type {\n",
       "        vertical-align: middle;\n",
       "    }\n",
       "\n",
       "    .dataframe tbody tr th {\n",
       "        vertical-align: top;\n",
       "    }\n",
       "\n",
       "    .dataframe thead th {\n",
       "        text-align: right;\n",
       "    }\n",
       "</style>\n",
       "<table border=\"1\" class=\"dataframe\">\n",
       "  <thead>\n",
       "    <tr style=\"text-align: right;\">\n",
       "      <th></th>\n",
       "      <th>name</th>\n",
       "      <th>points</th>\n",
       "      <th>team</th>\n",
       "    </tr>\n",
       "    <tr>\n",
       "      <th>index</th>\n",
       "      <th></th>\n",
       "      <th></th>\n",
       "      <th></th>\n",
       "    </tr>\n",
       "  </thead>\n",
       "  <tbody>\n",
       "    <tr>\n",
       "      <th>Marcos Senesi2023-12-09T15:00:00Z</th>\n",
       "      <td>Marcos Senesi</td>\n",
       "      <td>14.826416</td>\n",
       "      <td>Bournemouth</td>\n",
       "    </tr>\n",
       "    <tr>\n",
       "      <th>Tosin Adarabioyo2023-12-10T14:00:00Z</th>\n",
       "      <td>Tosin Adarabioyo</td>\n",
       "      <td>13.643207</td>\n",
       "      <td>Fulham</td>\n",
       "    </tr>\n",
       "    <tr>\n",
       "      <th>Destiny Udogie2023-12-10T16:30:00Z</th>\n",
       "      <td>Destiny Udogie</td>\n",
       "      <td>8.990474</td>\n",
       "      <td>Spurs</td>\n",
       "    </tr>\n",
       "    <tr>\n",
       "      <th>Anel Ahmedhodžić2023-12-09T15:00:00Z</th>\n",
       "      <td>Anel Ahmedhodžić</td>\n",
       "      <td>8.009787</td>\n",
       "      <td>Sheffield Utd</td>\n",
       "    </tr>\n",
       "    <tr>\n",
       "      <th>Vitalii Mykolenko2023-12-10T14:00:00Z</th>\n",
       "      <td>Vitalii Mykolenko</td>\n",
       "      <td>6.841697</td>\n",
       "      <td>Everton</td>\n",
       "    </tr>\n",
       "    <tr>\n",
       "      <th>Neco Williams2023-12-09T15:00:00Z</th>\n",
       "      <td>Neco Williams</td>\n",
       "      <td>6.557610</td>\n",
       "      <td>Nott'm Forest</td>\n",
       "    </tr>\n",
       "    <tr>\n",
       "      <th>Harry Toffolo2023-12-09T15:00:00Z</th>\n",
       "      <td>Harry Toffolo</td>\n",
       "      <td>6.255920</td>\n",
       "      <td>Nott'm Forest</td>\n",
       "    </tr>\n",
       "    <tr>\n",
       "      <th>Jack Robinson2023-12-09T15:00:00Z</th>\n",
       "      <td>Jack Robinson</td>\n",
       "      <td>6.254764</td>\n",
       "      <td>Sheffield Utd</td>\n",
       "    </tr>\n",
       "    <tr>\n",
       "      <th>Calvin Bassey2023-12-10T14:00:00Z</th>\n",
       "      <td>Calvin Bassey</td>\n",
       "      <td>6.234043</td>\n",
       "      <td>Fulham</td>\n",
       "    </tr>\n",
       "    <tr>\n",
       "      <th>Diego Carlos Santos Silva2023-12-09T17:30:00Z</th>\n",
       "      <td>Diego Carlos Santos Silva</td>\n",
       "      <td>6.139496</td>\n",
       "      <td>Aston Villa</td>\n",
       "    </tr>\n",
       "  </tbody>\n",
       "</table>\n",
       "</div>"
      ],
      "text/plain": [
       "                                                                    name  \\\n",
       "index                                                                      \n",
       "Marcos Senesi2023-12-09T15:00:00Z                          Marcos Senesi   \n",
       "Tosin Adarabioyo2023-12-10T14:00:00Z                    Tosin Adarabioyo   \n",
       "Destiny Udogie2023-12-10T16:30:00Z                        Destiny Udogie   \n",
       "Anel Ahmedhodžić2023-12-09T15:00:00Z                    Anel Ahmedhodžić   \n",
       "Vitalii Mykolenko2023-12-10T14:00:00Z                  Vitalii Mykolenko   \n",
       "Neco Williams2023-12-09T15:00:00Z                          Neco Williams   \n",
       "Harry Toffolo2023-12-09T15:00:00Z                          Harry Toffolo   \n",
       "Jack Robinson2023-12-09T15:00:00Z                          Jack Robinson   \n",
       "Calvin Bassey2023-12-10T14:00:00Z                          Calvin Bassey   \n",
       "Diego Carlos Santos Silva2023-12-09T17:30:00Z  Diego Carlos Santos Silva   \n",
       "\n",
       "                                                  points           team  \n",
       "index                                                                    \n",
       "Marcos Senesi2023-12-09T15:00:00Z              14.826416    Bournemouth  \n",
       "Tosin Adarabioyo2023-12-10T14:00:00Z           13.643207         Fulham  \n",
       "Destiny Udogie2023-12-10T16:30:00Z              8.990474          Spurs  \n",
       "Anel Ahmedhodžić2023-12-09T15:00:00Z            8.009787  Sheffield Utd  \n",
       "Vitalii Mykolenko2023-12-10T14:00:00Z           6.841697        Everton  \n",
       "Neco Williams2023-12-09T15:00:00Z               6.557610  Nott'm Forest  \n",
       "Harry Toffolo2023-12-09T15:00:00Z               6.255920  Nott'm Forest  \n",
       "Jack Robinson2023-12-09T15:00:00Z               6.254764  Sheffield Utd  \n",
       "Calvin Bassey2023-12-10T14:00:00Z               6.234043         Fulham  \n",
       "Diego Carlos Santos Silva2023-12-09T17:30:00Z   6.139496    Aston Villa  "
      ]
     },
     "execution_count": 131,
     "metadata": {},
     "output_type": "execute_result"
    }
   ],
   "source": [
    "test[test[\"position\"]==\"DEF\"].sort_values(by=\"points\",ascending=False).head(10)[[\"name\",\"points\",\"team\"]]"
   ]
  },
  {
   "cell_type": "code",
   "execution_count": 132,
   "metadata": {
    "colab": {
     "base_uri": "https://localhost:8080/",
     "height": 394
    },
    "id": "_b9fjvegAsG7",
    "outputId": "7073a71f-7627-4ab9-ad66-b2a878dca5cb"
   },
   "outputs": [
    {
     "data": {
      "text/html": [
       "<div>\n",
       "<style scoped>\n",
       "    .dataframe tbody tr th:only-of-type {\n",
       "        vertical-align: middle;\n",
       "    }\n",
       "\n",
       "    .dataframe tbody tr th {\n",
       "        vertical-align: top;\n",
       "    }\n",
       "\n",
       "    .dataframe thead th {\n",
       "        text-align: right;\n",
       "    }\n",
       "</style>\n",
       "<table border=\"1\" class=\"dataframe\">\n",
       "  <thead>\n",
       "    <tr style=\"text-align: right;\">\n",
       "      <th></th>\n",
       "      <th>name</th>\n",
       "      <th>points</th>\n",
       "      <th>team</th>\n",
       "    </tr>\n",
       "    <tr>\n",
       "      <th>index</th>\n",
       "      <th></th>\n",
       "      <th></th>\n",
       "      <th></th>\n",
       "    </tr>\n",
       "  </thead>\n",
       "  <tbody>\n",
       "    <tr>\n",
       "      <th>Jordan Pickford2023-12-10T14:00:00Z</th>\n",
       "      <td>Jordan Pickford</td>\n",
       "      <td>8.790408</td>\n",
       "      <td>Everton</td>\n",
       "    </tr>\n",
       "    <tr>\n",
       "      <th>Emiliano Martínez Romero2023-12-09T17:30:00Z</th>\n",
       "      <td>Emiliano Martínez Romero</td>\n",
       "      <td>8.736957</td>\n",
       "      <td>Aston Villa</td>\n",
       "    </tr>\n",
       "    <tr>\n",
       "      <th>Bernd Leno2023-12-10T14:00:00Z</th>\n",
       "      <td>Bernd Leno</td>\n",
       "      <td>8.699020</td>\n",
       "      <td>Fulham</td>\n",
       "    </tr>\n",
       "    <tr>\n",
       "      <th>Wes Foderingham2023-12-09T15:00:00Z</th>\n",
       "      <td>Wes Foderingham</td>\n",
       "      <td>8.203410</td>\n",
       "      <td>Sheffield Utd</td>\n",
       "    </tr>\n",
       "    <tr>\n",
       "      <th>James Trafford2023-12-09T15:00:00Z</th>\n",
       "      <td>James Trafford</td>\n",
       "      <td>6.854552</td>\n",
       "      <td>Burnley</td>\n",
       "    </tr>\n",
       "    <tr>\n",
       "      <th>Norberto Murara Neto2023-12-09T15:00:00Z</th>\n",
       "      <td>Norberto Murara Neto</td>\n",
       "      <td>5.602009</td>\n",
       "      <td>Bournemouth</td>\n",
       "    </tr>\n",
       "    <tr>\n",
       "      <th>Mark Flekken2023-12-09T15:00:00Z</th>\n",
       "      <td>Mark Flekken</td>\n",
       "      <td>2.811411</td>\n",
       "      <td>Brentford</td>\n",
       "    </tr>\n",
       "    <tr>\n",
       "      <th>Robert Sánchez2023-12-10T14:00:00Z</th>\n",
       "      <td>Robert Sánchez</td>\n",
       "      <td>2.767346</td>\n",
       "      <td>Chelsea</td>\n",
       "    </tr>\n",
       "    <tr>\n",
       "      <th>Alisson Ramses Becker2023-12-09T12:30:00Z</th>\n",
       "      <td>Alisson Ramses Becker</td>\n",
       "      <td>2.711842</td>\n",
       "      <td>Liverpool</td>\n",
       "    </tr>\n",
       "    <tr>\n",
       "      <th>Matt Turner2023-12-09T15:00:00Z</th>\n",
       "      <td>Matt Turner</td>\n",
       "      <td>2.693928</td>\n",
       "      <td>Nott'm Forest</td>\n",
       "    </tr>\n",
       "  </tbody>\n",
       "</table>\n",
       "</div>"
      ],
      "text/plain": [
       "                                                                  name  \\\n",
       "index                                                                    \n",
       "Jordan Pickford2023-12-10T14:00:00Z                    Jordan Pickford   \n",
       "Emiliano Martínez Romero2023-12-09T17:30:00Z  Emiliano Martínez Romero   \n",
       "Bernd Leno2023-12-10T14:00:00Z                              Bernd Leno   \n",
       "Wes Foderingham2023-12-09T15:00:00Z                    Wes Foderingham   \n",
       "James Trafford2023-12-09T15:00:00Z                      James Trafford   \n",
       "Norberto Murara Neto2023-12-09T15:00:00Z          Norberto Murara Neto   \n",
       "Mark Flekken2023-12-09T15:00:00Z                          Mark Flekken   \n",
       "Robert Sánchez2023-12-10T14:00:00Z                      Robert Sánchez   \n",
       "Alisson Ramses Becker2023-12-09T12:30:00Z        Alisson Ramses Becker   \n",
       "Matt Turner2023-12-09T15:00:00Z                            Matt Turner   \n",
       "\n",
       "                                                points           team  \n",
       "index                                                                  \n",
       "Jordan Pickford2023-12-10T14:00:00Z           8.790408        Everton  \n",
       "Emiliano Martínez Romero2023-12-09T17:30:00Z  8.736957    Aston Villa  \n",
       "Bernd Leno2023-12-10T14:00:00Z                8.699020         Fulham  \n",
       "Wes Foderingham2023-12-09T15:00:00Z           8.203410  Sheffield Utd  \n",
       "James Trafford2023-12-09T15:00:00Z            6.854552        Burnley  \n",
       "Norberto Murara Neto2023-12-09T15:00:00Z      5.602009    Bournemouth  \n",
       "Mark Flekken2023-12-09T15:00:00Z              2.811411      Brentford  \n",
       "Robert Sánchez2023-12-10T14:00:00Z            2.767346        Chelsea  \n",
       "Alisson Ramses Becker2023-12-09T12:30:00Z     2.711842      Liverpool  \n",
       "Matt Turner2023-12-09T15:00:00Z               2.693928  Nott'm Forest  "
      ]
     },
     "execution_count": 132,
     "metadata": {},
     "output_type": "execute_result"
    }
   ],
   "source": [
    "test[test[\"position\"]==\"GKP\"].sort_values(by=\"points\",ascending=False).head(10)[[\"name\",\"points\",\"team\"]]"
   ]
  },
  {
   "cell_type": "code",
   "execution_count": 133,
   "metadata": {
    "colab": {
     "base_uri": "https://localhost:8080/",
     "height": 394
    },
    "id": "DhgfhH7AgUW3",
    "outputId": "38d4b894-d287-4898-d483-eb736b280def"
   },
   "outputs": [
    {
     "data": {
      "text/html": [
       "<div>\n",
       "<style scoped>\n",
       "    .dataframe tbody tr th:only-of-type {\n",
       "        vertical-align: middle;\n",
       "    }\n",
       "\n",
       "    .dataframe tbody tr th {\n",
       "        vertical-align: top;\n",
       "    }\n",
       "\n",
       "    .dataframe thead th {\n",
       "        text-align: right;\n",
       "    }\n",
       "</style>\n",
       "<table border=\"1\" class=\"dataframe\">\n",
       "  <thead>\n",
       "    <tr style=\"text-align: right;\">\n",
       "      <th></th>\n",
       "      <th>name</th>\n",
       "      <th>points</th>\n",
       "      <th>team</th>\n",
       "    </tr>\n",
       "    <tr>\n",
       "      <th>index</th>\n",
       "      <th></th>\n",
       "      <th></th>\n",
       "      <th></th>\n",
       "    </tr>\n",
       "  </thead>\n",
       "  <tbody>\n",
       "    <tr>\n",
       "      <th>Matheus Santos Carneiro Da Cunha2023-12-09T15:00:00Z</th>\n",
       "      <td>Matheus Santos Carneiro Da Cunha</td>\n",
       "      <td>9.907372</td>\n",
       "      <td>Wolves</td>\n",
       "    </tr>\n",
       "    <tr>\n",
       "      <th>Raúl Jiménez2023-12-10T14:00:00Z</th>\n",
       "      <td>Raúl Jiménez</td>\n",
       "      <td>9.688809</td>\n",
       "      <td>Fulham</td>\n",
       "    </tr>\n",
       "    <tr>\n",
       "      <th>Jean-Philippe Mateta2023-12-09T12:30:00Z</th>\n",
       "      <td>Jean-Philippe Mateta</td>\n",
       "      <td>7.550750</td>\n",
       "      <td>Crystal Palace</td>\n",
       "    </tr>\n",
       "    <tr>\n",
       "      <th>Dominic Solanke2023-12-09T15:00:00Z</th>\n",
       "      <td>Dominic Solanke</td>\n",
       "      <td>7.094123</td>\n",
       "      <td>Bournemouth</td>\n",
       "    </tr>\n",
       "    <tr>\n",
       "      <th>Elijah Adebayo2023-12-10T14:00:00Z</th>\n",
       "      <td>Elijah Adebayo</td>\n",
       "      <td>6.735416</td>\n",
       "      <td>Luton</td>\n",
       "    </tr>\n",
       "    <tr>\n",
       "      <th>Carlos Vinícius Alves Morais2023-12-10T14:00:00Z</th>\n",
       "      <td>Carlos Vinícius Alves Morais</td>\n",
       "      <td>5.008009</td>\n",
       "      <td>Fulham</td>\n",
       "    </tr>\n",
       "    <tr>\n",
       "      <th>Julián Álvarez2023-12-10T14:00:00Z</th>\n",
       "      <td>Julián Álvarez</td>\n",
       "      <td>4.989116</td>\n",
       "      <td>Man City</td>\n",
       "    </tr>\n",
       "    <tr>\n",
       "      <th>Dominic Calvert-Lewin2023-12-10T14:00:00Z</th>\n",
       "      <td>Dominic Calvert-Lewin</td>\n",
       "      <td>4.861040</td>\n",
       "      <td>Everton</td>\n",
       "    </tr>\n",
       "    <tr>\n",
       "      <th>Jay Rodriguez2023-12-09T15:00:00Z</th>\n",
       "      <td>Jay Rodriguez</td>\n",
       "      <td>4.832229</td>\n",
       "      <td>Burnley</td>\n",
       "    </tr>\n",
       "    <tr>\n",
       "      <th>Callum Wilson2023-12-10T16:30:00Z</th>\n",
       "      <td>Callum Wilson</td>\n",
       "      <td>4.560417</td>\n",
       "      <td>Newcastle</td>\n",
       "    </tr>\n",
       "  </tbody>\n",
       "</table>\n",
       "</div>"
      ],
      "text/plain": [
       "                                                                                name  \\\n",
       "index                                                                                  \n",
       "Matheus Santos Carneiro Da Cunha2023-12-09T15:0...  Matheus Santos Carneiro Da Cunha   \n",
       "Raúl Jiménez2023-12-10T14:00:00Z                                        Raúl Jiménez   \n",
       "Jean-Philippe Mateta2023-12-09T12:30:00Z                        Jean-Philippe Mateta   \n",
       "Dominic Solanke2023-12-09T15:00:00Z                                  Dominic Solanke   \n",
       "Elijah Adebayo2023-12-10T14:00:00Z                                    Elijah Adebayo   \n",
       "Carlos Vinícius Alves Morais2023-12-10T14:00:00Z        Carlos Vinícius Alves Morais   \n",
       "Julián Álvarez2023-12-10T14:00:00Z                                    Julián Álvarez   \n",
       "Dominic Calvert-Lewin2023-12-10T14:00:00Z                      Dominic Calvert-Lewin   \n",
       "Jay Rodriguez2023-12-09T15:00:00Z                                      Jay Rodriguez   \n",
       "Callum Wilson2023-12-10T16:30:00Z                                      Callum Wilson   \n",
       "\n",
       "                                                      points            team  \n",
       "index                                                                         \n",
       "Matheus Santos Carneiro Da Cunha2023-12-09T15:0...  9.907372          Wolves  \n",
       "Raúl Jiménez2023-12-10T14:00:00Z                    9.688809          Fulham  \n",
       "Jean-Philippe Mateta2023-12-09T12:30:00Z            7.550750  Crystal Palace  \n",
       "Dominic Solanke2023-12-09T15:00:00Z                 7.094123     Bournemouth  \n",
       "Elijah Adebayo2023-12-10T14:00:00Z                  6.735416           Luton  \n",
       "Carlos Vinícius Alves Morais2023-12-10T14:00:00Z    5.008009          Fulham  \n",
       "Julián Álvarez2023-12-10T14:00:00Z                  4.989116        Man City  \n",
       "Dominic Calvert-Lewin2023-12-10T14:00:00Z           4.861040         Everton  \n",
       "Jay Rodriguez2023-12-09T15:00:00Z                   4.832229         Burnley  \n",
       "Callum Wilson2023-12-10T16:30:00Z                   4.560417       Newcastle  "
      ]
     },
     "execution_count": 133,
     "metadata": {},
     "output_type": "execute_result"
    }
   ],
   "source": [
    "test[test[\"position\"]==\"FWD\"].sort_values(by=\"points\",ascending=False).head(10)[[\"name\",\"points\",\"team\"]]"
   ]
  },
  {
   "cell_type": "code",
   "execution_count": 134,
   "metadata": {
    "colab": {
     "base_uri": "https://localhost:8080/"
    },
    "id": "UCBjSKR_uf6m",
    "outputId": "05cf4abf-4d6c-4938-abfa-61aa0cebd817"
   },
   "outputs": [
    {
     "data": {
      "text/plain": [
       "index\n",
       "Son Heung-min2023-12-10T16:30:00Z                          16.672894\n",
       "Marcos Senesi2023-12-09T15:00:00Z                          14.826416\n",
       "Richarlison de Andrade2023-12-10T16:30:00Z                 14.671592\n",
       "Tosin Adarabioyo2023-12-10T14:00:00Z                       13.643207\n",
       "Mohamed Salah2023-12-09T12:30:00Z                          12.596883\n",
       "Jack Grealish2023-12-10T14:00:00Z                           9.933753\n",
       "Matheus Santos Carneiro Da Cunha2023-12-09T15:00:00Z        9.907372\n",
       "Simon Adingra2023-12-09T15:00:00Z                           9.806450\n",
       "Raúl Jiménez2023-12-10T14:00:00Z                            9.688809\n",
       "Abdoulaye Doucouré2023-12-10T14:00:00Z                      9.606363\n",
       "Harry Wilson2023-12-10T14:00:00Z                            9.341238\n",
       "John McGinn2023-12-09T17:30:00Z                             9.206036\n",
       "Bernardo Veiga de Carvalho e Silva2023-12-10T14:00:00Z      9.117368\n",
       "Destiny Udogie2023-12-10T16:30:00Z                          8.990474\n",
       "Jordan Pickford2023-12-10T14:00:00Z                         8.790408\n",
       "Lewis Cook2023-12-09T15:00:00Z                              8.746527\n",
       "Emiliano Martínez Romero2023-12-09T17:30:00Z                8.736957\n",
       "Bernd Leno2023-12-10T14:00:00Z                              8.699020\n",
       "Marcus Tavernier2023-12-09T15:00:00Z                        8.452660\n",
       "Wes Foderingham2023-12-09T15:00:00Z                         8.203410\n",
       "Anel Ahmedhodžić2023-12-09T15:00:00Z                        8.009787\n",
       "James McAtee2023-12-09T15:00:00Z                            7.870381\n",
       "Jean-Philippe Mateta2023-12-09T12:30:00Z                    7.550750\n",
       "Pascal Groß2023-12-09T15:00:00Z                             7.183257\n",
       "Dominic Solanke2023-12-09T15:00:00Z                         7.094123\n",
       "James Trafford2023-12-09T15:00:00Z                          6.854552\n",
       "Vitalii Mykolenko2023-12-10T14:00:00Z                       6.841697\n",
       "Elijah Adebayo2023-12-10T14:00:00Z                          6.735416\n",
       "Willian Borges da Silva2023-12-10T14:00:00Z                 6.590516\n",
       "Philip Billing2023-12-09T15:00:00Z                          6.557666\n",
       "Neco Williams2023-12-09T15:00:00Z                           6.557610\n",
       "Tom Cairney2023-12-10T14:00:00Z                             6.456492\n",
       "Harry Toffolo2023-12-09T15:00:00Z                           6.255920\n",
       "Jack Robinson2023-12-09T15:00:00Z                           6.254764\n",
       "Calvin Bassey2023-12-10T14:00:00Z                           6.234043\n",
       "Diego Carlos Santos Silva2023-12-09T17:30:00Z               6.139496\n",
       "Lewis Dobbin2023-12-10T14:00:00Z                            6.134980\n",
       "Pau Torres2023-12-09T17:30:00Z                              6.093722\n",
       "Ezri Konsa Ngoyo2023-12-09T17:30:00Z                        6.059386\n",
       "Antonee Robinson2023-12-10T14:00:00Z                        6.056533\n",
       "Harvey Elliott2023-12-09T12:30:00Z                          6.040624\n",
       "James Tarkowski2023-12-10T14:00:00Z                         6.020347\n",
       "Milos Kerkez2023-12-09T15:00:00Z                            6.012008\n",
       "Alex Iwobi2023-12-10T14:00:00Z                              5.980067\n",
       "Joelinton Cássio Apolinário de Lira2023-12-10T16:30:00Z     5.935734\n",
       "Adam Smith2023-12-09T15:00:00Z                              5.933293\n",
       "Illia Zabarnyi2023-12-09T15:00:00Z                          5.916493\n",
       "Andreas Hoelgebaum Pereira2023-12-10T14:00:00Z              5.757762\n",
       "Norberto Murara Neto2023-12-09T15:00:00Z                    5.602009\n",
       "Pablo Sarabia2023-12-09T15:00:00Z                           5.399733\n",
       "Name: points, dtype: float64"
      ]
     },
     "execution_count": 134,
     "metadata": {},
     "output_type": "execute_result"
    }
   ],
   "source": [
    "test[\"points\"].sort_values(ascending=False).head(50)"
   ]
  },
  {
   "cell_type": "code",
   "execution_count": 135,
   "metadata": {
    "id": "TEVZdPSFrxKn"
   },
   "outputs": [],
   "source": [
    "\n",
    "# feature_importance = pd.DataFrame(\n",
    "#     {\"column\": x.columns, \"imp\": model.feature_importances_}\n",
    "# ).sort_values(\n",
    "#     \"imp\", ascending=False\n",
    "# )  #"
   ]
  },
  {
   "cell_type": "code",
   "execution_count": 136,
   "metadata": {
    "colab": {
     "base_uri": "https://localhost:8080/",
     "height": 1000
    },
    "id": "cp1yUjTNvJnk",
    "outputId": "76a00ccf-df81-46e9-b3bc-58527fbefefb"
   },
   "outputs": [
    {
     "data": {
      "text/html": [
       "<div>\n",
       "<style scoped>\n",
       "    .dataframe tbody tr th:only-of-type {\n",
       "        vertical-align: middle;\n",
       "    }\n",
       "\n",
       "    .dataframe tbody tr th {\n",
       "        vertical-align: top;\n",
       "    }\n",
       "\n",
       "    .dataframe thead th {\n",
       "        text-align: right;\n",
       "    }\n",
       "</style>\n",
       "<table border=\"1\" class=\"dataframe\">\n",
       "  <thead>\n",
       "    <tr style=\"text-align: right;\">\n",
       "      <th></th>\n",
       "      <th>column</th>\n",
       "      <th>imp</th>\n",
       "    </tr>\n",
       "  </thead>\n",
       "  <tbody>\n",
       "    <tr>\n",
       "      <th>3</th>\n",
       "      <td>bps</td>\n",
       "      <td>27272</td>\n",
       "    </tr>\n",
       "    <tr>\n",
       "      <th>9</th>\n",
       "      <td>influence</td>\n",
       "      <td>23604</td>\n",
       "    </tr>\n",
       "    <tr>\n",
       "      <th>5</th>\n",
       "      <td>creativity</td>\n",
       "      <td>14407</td>\n",
       "    </tr>\n",
       "    <tr>\n",
       "      <th>8</th>\n",
       "      <td>ict_index</td>\n",
       "      <td>13905</td>\n",
       "    </tr>\n",
       "    <tr>\n",
       "      <th>6</th>\n",
       "      <td>goals_conceded</td>\n",
       "      <td>11820</td>\n",
       "    </tr>\n",
       "    <tr>\n",
       "      <th>16</th>\n",
       "      <td>threat</td>\n",
       "      <td>8077</td>\n",
       "    </tr>\n",
       "    <tr>\n",
       "      <th>0</th>\n",
       "      <td>position</td>\n",
       "      <td>7707</td>\n",
       "    </tr>\n",
       "    <tr>\n",
       "      <th>7</th>\n",
       "      <td>goals_scored</td>\n",
       "      <td>7506</td>\n",
       "    </tr>\n",
       "    <tr>\n",
       "      <th>1</th>\n",
       "      <td>assists</td>\n",
       "      <td>7051</td>\n",
       "    </tr>\n",
       "    <tr>\n",
       "      <th>14</th>\n",
       "      <td>saves</td>\n",
       "      <td>6725</td>\n",
       "    </tr>\n",
       "    <tr>\n",
       "      <th>22</th>\n",
       "      <td>yellow_cards</td>\n",
       "      <td>5558</td>\n",
       "    </tr>\n",
       "    <tr>\n",
       "      <th>26</th>\n",
       "      <td>match_result</td>\n",
       "      <td>5067</td>\n",
       "    </tr>\n",
       "    <tr>\n",
       "      <th>49</th>\n",
       "      <td>mean bps 3</td>\n",
       "      <td>4530</td>\n",
       "    </tr>\n",
       "    <tr>\n",
       "      <th>4</th>\n",
       "      <td>clean_sheets</td>\n",
       "      <td>4522</td>\n",
       "    </tr>\n",
       "    <tr>\n",
       "      <th>2</th>\n",
       "      <td>bonus</td>\n",
       "      <td>4485</td>\n",
       "    </tr>\n",
       "    <tr>\n",
       "      <th>67</th>\n",
       "      <td>mean value 3</td>\n",
       "      <td>4368</td>\n",
       "    </tr>\n",
       "    <tr>\n",
       "      <th>20</th>\n",
       "      <td>value</td>\n",
       "      <td>3965</td>\n",
       "    </tr>\n",
       "    <tr>\n",
       "      <th>63</th>\n",
       "      <td>mean threat 3</td>\n",
       "      <td>3382</td>\n",
       "    </tr>\n",
       "    <tr>\n",
       "      <th>23</th>\n",
       "      <td>last_season_position</td>\n",
       "      <td>3201</td>\n",
       "    </tr>\n",
       "    <tr>\n",
       "      <th>34</th>\n",
       "      <td>threat_ex</td>\n",
       "      <td>2753</td>\n",
       "    </tr>\n",
       "    <tr>\n",
       "      <th>32</th>\n",
       "      <td>creativity_ex</td>\n",
       "      <td>2741</td>\n",
       "    </tr>\n",
       "    <tr>\n",
       "      <th>51</th>\n",
       "      <td>mean creativity 3</td>\n",
       "      <td>2617</td>\n",
       "    </tr>\n",
       "    <tr>\n",
       "      <th>56</th>\n",
       "      <td>mean minutes 3</td>\n",
       "      <td>2367</td>\n",
       "    </tr>\n",
       "    <tr>\n",
       "      <th>55</th>\n",
       "      <td>mean influence 3</td>\n",
       "      <td>2221</td>\n",
       "    </tr>\n",
       "    <tr>\n",
       "      <th>25</th>\n",
       "      <td>position rank</td>\n",
       "      <td>1913</td>\n",
       "    </tr>\n",
       "    <tr>\n",
       "      <th>36</th>\n",
       "      <td>bps_ex</td>\n",
       "      <td>1837</td>\n",
       "    </tr>\n",
       "    <tr>\n",
       "      <th>46</th>\n",
       "      <td>opponent_last_season_position</td>\n",
       "      <td>1822</td>\n",
       "    </tr>\n",
       "    <tr>\n",
       "      <th>69</th>\n",
       "      <td>std bps 3</td>\n",
       "      <td>1816</td>\n",
       "    </tr>\n",
       "    <tr>\n",
       "      <th>24</th>\n",
       "      <td>percent_value</td>\n",
       "      <td>1808</td>\n",
       "    </tr>\n",
       "    <tr>\n",
       "      <th>70</th>\n",
       "      <td>std creativity 3</td>\n",
       "      <td>1665</td>\n",
       "    </tr>\n",
       "    <tr>\n",
       "      <th>13</th>\n",
       "      <td>red_cards</td>\n",
       "      <td>1652</td>\n",
       "    </tr>\n",
       "    <tr>\n",
       "      <th>33</th>\n",
       "      <td>influence_ex</td>\n",
       "      <td>1633</td>\n",
       "    </tr>\n",
       "    <tr>\n",
       "      <th>27</th>\n",
       "      <td>goals_scored_ex</td>\n",
       "      <td>1498</td>\n",
       "    </tr>\n",
       "    <tr>\n",
       "      <th>75</th>\n",
       "      <td>std threat 3</td>\n",
       "      <td>1478</td>\n",
       "    </tr>\n",
       "    <tr>\n",
       "      <th>44</th>\n",
       "      <td>GW</td>\n",
       "      <td>1459</td>\n",
       "    </tr>\n",
       "    <tr>\n",
       "      <th>42</th>\n",
       "      <td>now_cost_ex</td>\n",
       "      <td>1451</td>\n",
       "    </tr>\n",
       "    <tr>\n",
       "      <th>64</th>\n",
       "      <td>mean total_points 3</td>\n",
       "      <td>1412</td>\n",
       "    </tr>\n",
       "    <tr>\n",
       "      <th>10</th>\n",
       "      <td>own_goals</td>\n",
       "      <td>1397</td>\n",
       "    </tr>\n",
       "    <tr>\n",
       "      <th>12</th>\n",
       "      <td>penalties_saved</td>\n",
       "      <td>1361</td>\n",
       "    </tr>\n",
       "    <tr>\n",
       "      <th>62</th>\n",
       "      <td>mean selected 3</td>\n",
       "      <td>1346</td>\n",
       "    </tr>\n",
       "    <tr>\n",
       "      <th>15</th>\n",
       "      <td>selected</td>\n",
       "      <td>1318</td>\n",
       "    </tr>\n",
       "    <tr>\n",
       "      <th>71</th>\n",
       "      <td>std ict_index 3</td>\n",
       "      <td>1294</td>\n",
       "    </tr>\n",
       "    <tr>\n",
       "      <th>11</th>\n",
       "      <td>penalties_missed</td>\n",
       "      <td>1250</td>\n",
       "    </tr>\n",
       "    <tr>\n",
       "      <th>41</th>\n",
       "      <td>selected_by_percent_ex</td>\n",
       "      <td>1248</td>\n",
       "    </tr>\n",
       "    <tr>\n",
       "      <th>54</th>\n",
       "      <td>mean ict_index 3</td>\n",
       "      <td>1150</td>\n",
       "    </tr>\n",
       "    <tr>\n",
       "      <th>17</th>\n",
       "      <td>transfers_balance</td>\n",
       "      <td>1126</td>\n",
       "    </tr>\n",
       "    <tr>\n",
       "      <th>68</th>\n",
       "      <td>mean match_result 3</td>\n",
       "      <td>1108</td>\n",
       "    </tr>\n",
       "    <tr>\n",
       "      <th>45</th>\n",
       "      <td>opponent</td>\n",
       "      <td>1088</td>\n",
       "    </tr>\n",
       "    <tr>\n",
       "      <th>65</th>\n",
       "      <td>mean transfers_in 3</td>\n",
       "      <td>1050</td>\n",
       "    </tr>\n",
       "    <tr>\n",
       "      <th>18</th>\n",
       "      <td>transfers_in</td>\n",
       "      <td>998</td>\n",
       "    </tr>\n",
       "  </tbody>\n",
       "</table>\n",
       "</div>"
      ],
      "text/plain": [
       "                           column    imp\n",
       "3                             bps  27272\n",
       "9                       influence  23604\n",
       "5                      creativity  14407\n",
       "8                       ict_index  13905\n",
       "6                  goals_conceded  11820\n",
       "16                         threat   8077\n",
       "0                        position   7707\n",
       "7                    goals_scored   7506\n",
       "1                         assists   7051\n",
       "14                          saves   6725\n",
       "22                   yellow_cards   5558\n",
       "26                   match_result   5067\n",
       "49                     mean bps 3   4530\n",
       "4                    clean_sheets   4522\n",
       "2                           bonus   4485\n",
       "67                   mean value 3   4368\n",
       "20                          value   3965\n",
       "63                  mean threat 3   3382\n",
       "23           last_season_position   3201\n",
       "34                      threat_ex   2753\n",
       "32                  creativity_ex   2741\n",
       "51              mean creativity 3   2617\n",
       "56                 mean minutes 3   2367\n",
       "55               mean influence 3   2221\n",
       "25                  position rank   1913\n",
       "36                         bps_ex   1837\n",
       "46  opponent_last_season_position   1822\n",
       "69                      std bps 3   1816\n",
       "24                  percent_value   1808\n",
       "70               std creativity 3   1665\n",
       "13                      red_cards   1652\n",
       "33                   influence_ex   1633\n",
       "27                goals_scored_ex   1498\n",
       "75                   std threat 3   1478\n",
       "44                             GW   1459\n",
       "42                    now_cost_ex   1451\n",
       "64            mean total_points 3   1412\n",
       "10                      own_goals   1397\n",
       "12                penalties_saved   1361\n",
       "62                mean selected 3   1346\n",
       "15                       selected   1318\n",
       "71                std ict_index 3   1294\n",
       "11               penalties_missed   1250\n",
       "41         selected_by_percent_ex   1248\n",
       "54               mean ict_index 3   1150\n",
       "17              transfers_balance   1126\n",
       "68            mean match_result 3   1108\n",
       "45                       opponent   1088\n",
       "65            mean transfers_in 3   1050\n",
       "18                   transfers_in    998"
      ]
     },
     "execution_count": 136,
     "metadata": {},
     "output_type": "execute_result"
    }
   ],
   "source": [
    "# feature_importance.head(50)"
   ]
  },
  {
   "cell_type": "code",
   "execution_count": 137,
   "metadata": {
    "colab": {
     "base_uri": "https://localhost:8080/",
     "height": 990
    },
    "id": "oB09ezWX0Q6H",
    "outputId": "4aeae781-1788-4dcc-feaa-c9577d8aaea0"
   },
   "outputs": [
    {
     "data": {
      "text/html": [
       "<div>\n",
       "<style scoped>\n",
       "    .dataframe tbody tr th:only-of-type {\n",
       "        vertical-align: middle;\n",
       "    }\n",
       "\n",
       "    .dataframe tbody tr th {\n",
       "        vertical-align: top;\n",
       "    }\n",
       "\n",
       "    .dataframe thead th {\n",
       "        text-align: right;\n",
       "    }\n",
       "</style>\n",
       "<table border=\"1\" class=\"dataframe\">\n",
       "  <thead>\n",
       "    <tr style=\"text-align: right;\">\n",
       "      <th></th>\n",
       "      <th>column</th>\n",
       "      <th>imp</th>\n",
       "    </tr>\n",
       "  </thead>\n",
       "  <tbody>\n",
       "    <tr>\n",
       "      <th>78</th>\n",
       "      <td>std transfers_out 3</td>\n",
       "      <td>818</td>\n",
       "    </tr>\n",
       "    <tr>\n",
       "      <th>29</th>\n",
       "      <td>total_points_ex</td>\n",
       "      <td>768</td>\n",
       "    </tr>\n",
       "    <tr>\n",
       "      <th>72</th>\n",
       "      <td>std influence 3</td>\n",
       "      <td>767</td>\n",
       "    </tr>\n",
       "    <tr>\n",
       "      <th>77</th>\n",
       "      <td>std transfers_in 3</td>\n",
       "      <td>748</td>\n",
       "    </tr>\n",
       "    <tr>\n",
       "      <th>37</th>\n",
       "      <td>ict_index_ex</td>\n",
       "      <td>744</td>\n",
       "    </tr>\n",
       "    <tr>\n",
       "      <th>52</th>\n",
       "      <td>mean goals_conceded 3</td>\n",
       "      <td>724</td>\n",
       "    </tr>\n",
       "    <tr>\n",
       "      <th>19</th>\n",
       "      <td>transfers_out</td>\n",
       "      <td>677</td>\n",
       "    </tr>\n",
       "    <tr>\n",
       "      <th>83</th>\n",
       "      <td>week</td>\n",
       "      <td>673</td>\n",
       "    </tr>\n",
       "    <tr>\n",
       "      <th>30</th>\n",
       "      <td>minutes_ex</td>\n",
       "      <td>651</td>\n",
       "    </tr>\n",
       "    <tr>\n",
       "      <th>40</th>\n",
       "      <td>yellow_cards_ex</td>\n",
       "      <td>598</td>\n",
       "    </tr>\n",
       "    <tr>\n",
       "      <th>76</th>\n",
       "      <td>std total_points 3</td>\n",
       "      <td>579</td>\n",
       "    </tr>\n",
       "    <tr>\n",
       "      <th>35</th>\n",
       "      <td>bonus_ex</td>\n",
       "      <td>548</td>\n",
       "    </tr>\n",
       "    <tr>\n",
       "      <th>38</th>\n",
       "      <td>clean_sheets_ex</td>\n",
       "      <td>539</td>\n",
       "    </tr>\n",
       "    <tr>\n",
       "      <th>73</th>\n",
       "      <td>std minutes 3</td>\n",
       "      <td>478</td>\n",
       "    </tr>\n",
       "    <tr>\n",
       "      <th>43</th>\n",
       "      <td>season</td>\n",
       "      <td>404</td>\n",
       "    </tr>\n",
       "    <tr>\n",
       "      <th>61</th>\n",
       "      <td>mean saves 3</td>\n",
       "      <td>384</td>\n",
       "    </tr>\n",
       "    <tr>\n",
       "      <th>28</th>\n",
       "      <td>assists_ex</td>\n",
       "      <td>273</td>\n",
       "    </tr>\n",
       "    <tr>\n",
       "      <th>53</th>\n",
       "      <td>mean goals_scored 3</td>\n",
       "      <td>173</td>\n",
       "    </tr>\n",
       "    <tr>\n",
       "      <th>50</th>\n",
       "      <td>mean clean_sheets 3</td>\n",
       "      <td>125</td>\n",
       "    </tr>\n",
       "    <tr>\n",
       "      <th>48</th>\n",
       "      <td>mean bonus 3</td>\n",
       "      <td>120</td>\n",
       "    </tr>\n",
       "    <tr>\n",
       "      <th>81</th>\n",
       "      <td>month</td>\n",
       "      <td>84</td>\n",
       "    </tr>\n",
       "    <tr>\n",
       "      <th>21</th>\n",
       "      <td>was_home</td>\n",
       "      <td>72</td>\n",
       "    </tr>\n",
       "    <tr>\n",
       "      <th>47</th>\n",
       "      <td>mean assists 3</td>\n",
       "      <td>21</td>\n",
       "    </tr>\n",
       "    <tr>\n",
       "      <th>79</th>\n",
       "      <td>std value 3</td>\n",
       "      <td>12</td>\n",
       "    </tr>\n",
       "    <tr>\n",
       "      <th>39</th>\n",
       "      <td>red_cards_ex</td>\n",
       "      <td>7</td>\n",
       "    </tr>\n",
       "    <tr>\n",
       "      <th>57</th>\n",
       "      <td>mean own_goals 3</td>\n",
       "      <td>1</td>\n",
       "    </tr>\n",
       "    <tr>\n",
       "      <th>59</th>\n",
       "      <td>mean penalties_saved 3</td>\n",
       "      <td>0</td>\n",
       "    </tr>\n",
       "    <tr>\n",
       "      <th>80</th>\n",
       "      <td>day_of week</td>\n",
       "      <td>0</td>\n",
       "    </tr>\n",
       "    <tr>\n",
       "      <th>58</th>\n",
       "      <td>mean penalties_missed 3</td>\n",
       "      <td>0</td>\n",
       "    </tr>\n",
       "    <tr>\n",
       "      <th>60</th>\n",
       "      <td>mean red_cards 3</td>\n",
       "      <td>0</td>\n",
       "    </tr>\n",
       "  </tbody>\n",
       "</table>\n",
       "</div>"
      ],
      "text/plain": [
       "                     column  imp\n",
       "78      std transfers_out 3  818\n",
       "29          total_points_ex  768\n",
       "72          std influence 3  767\n",
       "77       std transfers_in 3  748\n",
       "37             ict_index_ex  744\n",
       "52    mean goals_conceded 3  724\n",
       "19            transfers_out  677\n",
       "83                     week  673\n",
       "30               minutes_ex  651\n",
       "40          yellow_cards_ex  598\n",
       "76       std total_points 3  579\n",
       "35                 bonus_ex  548\n",
       "38          clean_sheets_ex  539\n",
       "73            std minutes 3  478\n",
       "43                   season  404\n",
       "61             mean saves 3  384\n",
       "28               assists_ex  273\n",
       "53      mean goals_scored 3  173\n",
       "50      mean clean_sheets 3  125\n",
       "48             mean bonus 3  120\n",
       "81                    month   84\n",
       "21                 was_home   72\n",
       "47           mean assists 3   21\n",
       "79              std value 3   12\n",
       "39             red_cards_ex    7\n",
       "57         mean own_goals 3    1\n",
       "59   mean penalties_saved 3    0\n",
       "80              day_of week    0\n",
       "58  mean penalties_missed 3    0\n",
       "60         mean red_cards 3    0"
      ]
     },
     "execution_count": 137,
     "metadata": {},
     "output_type": "execute_result"
    }
   ],
   "source": [
    "# feature_importance.tail(30)"
   ]
  },
  {
   "cell_type": "markdown",
   "metadata": {
    "id": "GBl8UYussJIl"
   },
   "source": [
    "#Save predictions"
   ]
  },
  {
   "cell_type": "code",
   "execution_count": 143,
   "metadata": {
    "colab": {
     "background_save": true
    },
    "id": "HRm_1_f0sb1d"
   },
   "outputs": [],
   "source": [
    "test_copy[test_copy[\"position\"]==\"DEF\"][[\"name\",\"team\",\"minutes\"]].to_csv(f\"predicted_dataset/GW{gameweek}/defenders_minutes.csv\")\n",
    "test_copy[test_copy[\"position\"]==\"GKP\"][[\"name\",\"team\",\"minutes\"]].to_csv(f\"predicted_dataset/GW{gameweek}/goalkeepers_minutes.csv\")\n",
    "test_copy[test_copy[\"position\"]==\"MID\"][[\"name\",\"team\",\"minutes\"]].to_csv(f\"predicted_dataset/GW{gameweek}/midfielders_minutes.csv\")\n",
    "test_copy[test_copy[\"position\"]==\"FWD\"][[\"name\",\"team\",\"minutes\"]].to_csv(f\"predicted_dataset/GW{gameweek}/forwards_minutes.csv\")"
   ]
  },
  {
   "cell_type": "code",
   "execution_count": 144,
   "metadata": {
    "colab": {
     "background_save": true
    },
    "id": "jGCIVTg1uCs3"
   },
   "outputs": [],
   "source": [
    "test[test[\"position\"]==\"DEF\"][[\"name\",\"team\",\"points\",\"value\"]].sort_values(by=\"points\",ascending=False).to_csv(f\"predicted_dataset/GW{gameweek}/defenders_points.csv\")\n",
    "test[test[\"position\"]==\"GKP\"][[\"name\",\"team\",\"points\",\"value\"]].sort_values(by=\"points\",ascending=False).to_csv(f\"predicted_dataset/GW{gameweek}/goalkeepers_points.csv\")\n",
    "test[test[\"position\"]==\"MID\"][[\"name\",\"team\",\"points\",\"value\"]].sort_values(by=\"points\",ascending=False).to_csv(f\"predicted_dataset/GW{gameweek}/midfielders_points.csv\")\n",
    "test[test[\"position\"]==\"FWD\"][[\"name\",\"team\",\"points\",\"value\"]].sort_values(by=\"points\",ascending=False).to_csv(f\"predicted_dataset/GW{gameweek}/forwards_points.csv\")"
   ]
  },
  {
   "cell_type": "code",
   "execution_count": 142,
   "metadata": {
    "colab": {
     "background_save": true
    },
    "id": "G_OjzKsigsv_"
   },
   "outputs": [
    {
     "data": {
      "text/html": [
       "<div>\n",
       "<style scoped>\n",
       "    .dataframe tbody tr th:only-of-type {\n",
       "        vertical-align: middle;\n",
       "    }\n",
       "\n",
       "    .dataframe tbody tr th {\n",
       "        vertical-align: top;\n",
       "    }\n",
       "\n",
       "    .dataframe thead th {\n",
       "        text-align: right;\n",
       "    }\n",
       "</style>\n",
       "<table border=\"1\" class=\"dataframe\">\n",
       "  <thead>\n",
       "    <tr style=\"text-align: right;\">\n",
       "      <th></th>\n",
       "      <th>name</th>\n",
       "      <th>team</th>\n",
       "      <th>minutes</th>\n",
       "    </tr>\n",
       "  </thead>\n",
       "  <tbody>\n",
       "    <tr>\n",
       "      <th>4</th>\n",
       "      <td>Rúben Gato Alves Dias</td>\n",
       "      <td>Man City</td>\n",
       "      <td>1</td>\n",
       "    </tr>\n",
       "    <tr>\n",
       "      <th>7</th>\n",
       "      <td>Rico Lewis</td>\n",
       "      <td>Man City</td>\n",
       "      <td>0</td>\n",
       "    </tr>\n",
       "    <tr>\n",
       "      <th>9</th>\n",
       "      <td>João Cancelo</td>\n",
       "      <td>Man City</td>\n",
       "      <td>0</td>\n",
       "    </tr>\n",
       "    <tr>\n",
       "      <th>12</th>\n",
       "      <td>Nathan Aké</td>\n",
       "      <td>Man City</td>\n",
       "      <td>1</td>\n",
       "    </tr>\n",
       "    <tr>\n",
       "      <th>14</th>\n",
       "      <td>Manuel Akanji</td>\n",
       "      <td>Man City</td>\n",
       "      <td>0</td>\n",
       "    </tr>\n",
       "    <tr>\n",
       "      <th>...</th>\n",
       "      <td>...</td>\n",
       "      <td>...</td>\n",
       "      <td>...</td>\n",
       "    </tr>\n",
       "    <tr>\n",
       "      <th>664</th>\n",
       "      <td>Max Lowe</td>\n",
       "      <td>Sheffield Utd</td>\n",
       "      <td>1</td>\n",
       "    </tr>\n",
       "    <tr>\n",
       "      <th>665</th>\n",
       "      <td>Chris Basham</td>\n",
       "      <td>Sheffield Utd</td>\n",
       "      <td>0</td>\n",
       "    </tr>\n",
       "    <tr>\n",
       "      <th>667</th>\n",
       "      <td>Jayden Bogle</td>\n",
       "      <td>Sheffield Utd</td>\n",
       "      <td>1</td>\n",
       "    </tr>\n",
       "    <tr>\n",
       "      <th>669</th>\n",
       "      <td>Anel Ahmedhodžić</td>\n",
       "      <td>Sheffield Utd</td>\n",
       "      <td>1</td>\n",
       "    </tr>\n",
       "    <tr>\n",
       "      <th>672</th>\n",
       "      <td>Auston Trusty</td>\n",
       "      <td>Sheffield Utd</td>\n",
       "      <td>1</td>\n",
       "    </tr>\n",
       "  </tbody>\n",
       "</table>\n",
       "<p>220 rows × 3 columns</p>\n",
       "</div>"
      ],
      "text/plain": [
       "                      name           team  minutes\n",
       "4    Rúben Gato Alves Dias       Man City        1\n",
       "7               Rico Lewis       Man City        0\n",
       "9             João Cancelo       Man City        0\n",
       "12              Nathan Aké       Man City        1\n",
       "14           Manuel Akanji       Man City        0\n",
       "..                     ...            ...      ...\n",
       "664               Max Lowe  Sheffield Utd        1\n",
       "665           Chris Basham  Sheffield Utd        0\n",
       "667           Jayden Bogle  Sheffield Utd        1\n",
       "669       Anel Ahmedhodžić  Sheffield Utd        1\n",
       "672          Auston Trusty  Sheffield Utd        1\n",
       "\n",
       "[220 rows x 3 columns]"
      ]
     },
     "execution_count": 142,
     "metadata": {},
     "output_type": "execute_result"
    }
   ],
   "source": [
    "test_copy[test_copy[\"position\"]==\"DEF\"][[\"name\",\"team\",\"minutes\"]]"
   ]
  },
  {
   "cell_type": "code",
   "execution_count": null,
   "metadata": {},
   "outputs": [],
   "source": []
  }
 ],
 "metadata": {
  "colab": {
   "authorship_tag": "ABX9TyPQfJgzw5l5i50tJbZklE/V",
   "include_colab_link": true,
   "mount_file_id": "1aEyJ1htjtEffPwyNX1iNXKt1AcmE_aIT",
   "provenance": []
  },
  "kernelspec": {
   "display_name": "Python 3 (ipykernel)",
   "language": "python",
   "name": "python3"
  },
  "language_info": {
   "codemirror_mode": {
    "name": "ipython",
    "version": 3
   },
   "file_extension": ".py",
   "mimetype": "text/x-python",
   "name": "python",
   "nbconvert_exporter": "python",
   "pygments_lexer": "ipython3",
   "version": "3.8.18"
  }
 },
 "nbformat": 4,
 "nbformat_minor": 4
}
