{
 "cells": [
  {
   "cell_type": "markdown",
   "metadata": {
    "colab_type": "text",
    "id": "view-in-github"
   },
   "source": [
    "<a href=\"https://colab.research.google.com/github/saheedniyi02/fpl-ai/blob/master/weekly_fixtures.ipynb\" target=\"_parent\"><img src=\"https://colab.research.google.com/assets/colab-badge.svg\" alt=\"Open In Colab\"/></a>"
   ]
  },
  {
   "cell_type": "code",
   "execution_count": 16,
   "metadata": {},
   "outputs": [
    {
     "name": "stderr",
     "output_type": "stream",
     "text": [
      "100%|██████████| 765/765 [09:14<00:00,  1.38it/s]\n"
     ]
    }
   ],
   "source": [
    "import requests\n",
    "import pandas as pd\n",
    "from tqdm import tqdm\n",
    "\n",
    "gameweek = 18\n",
    "\n",
    "def get_player_fixture_info(id):\n",
    "    player_info = requests.get(\n",
    "        f\"https://fantasy.premierleague.com/api/element-summary/{id}/\"\n",
    "    ).json()\n",
    "    fixture = player_info[\"fixtures\"][0]\n",
    "    home_team = get_team_name(fixture[\"team_h\"])\n",
    "    away_team = get_team_name(fixture[\"team_a\"])\n",
    "    kickoff_time = fixture[\"kickoff_time\"]\n",
    "    is_home = fixture[\"is_home\"]\n",
    "    return home_team, away_team, kickoff_time, is_home\n",
    "\n",
    "\n",
    "def get_gameweek_result(id, gameweek):\n",
    "    \"returns a dictionary of the statistics from the gameweek\"\n",
    "    gameweek_results = requests.get(\n",
    "    f\"https://fantasy.premierleague.com/api/element-summary/{id}/\").json()\n",
    "    return gameweek_results[\"history\"][gameweek-1]\n",
    "\n",
    "def get_team_name(id):\n",
    "    general_information = requests.get(\n",
    "        \"https://fantasy.premierleague.com/api/bootstrap-static/\"\n",
    "    ).json()\n",
    "    teams = general_information[\"teams\"]\n",
    "    for team in teams:\n",
    "        if team[\"id\"] == id:\n",
    "            return team[\"name\"]\n",
    "\n",
    "\n",
    "def get_player_position(element_type):\n",
    "    general_information = requests.get(\n",
    "        \"https://fantasy.premierleague.com/api/bootstrap-static/\"\n",
    "    ).json()\n",
    "    positions = general_information[\"element_types\"]\n",
    "    for position in positions:\n",
    "        if position[\"id\"] == element_type:\n",
    "            return position[\"singular_name_short\"]\n",
    "\n",
    "\n",
    "\n",
    "\n",
    "general_info = requests.get(\n",
    "    f\"https://fantasy.premierleague.com/api/bootstrap-static/\"\n",
    ").json()\n",
    "player_infos = general_info[\"elements\"]\n",
    "\n",
    "\n",
    "# WEEKLY fixtures fixtures\n",
    "my_teams = []\n",
    "home_teams = []\n",
    "away_teams = []\n",
    "kickoff_times = []\n",
    "is_homes = []\n",
    "positions = []\n",
    "costs = []\n",
    "names = []\n",
    "ids = []\n",
    "general_info = requests.get(\n",
    "    f\"https://fantasy.premierleague.com/api/bootstrap-static/\"\n",
    ").json()\n",
    "player_infos = general_info[\"elements\"]\n",
    "\n",
    "#print(player_infos[0])\n",
    "\n",
    "\n",
    "# week 1\n",
    "for player_info in tqdm(player_infos):\n",
    "    id = player_info[\"id\"]\n",
    "    # print(id)\n",
    "    name = player_info[\"first_name\"] + \" \" + player_info[\"second_name\"]\n",
    "    team_id = player_info[\"team\"]\n",
    "    cost = player_info[\"now_cost\"]\n",
    "    element_type = player_info[\"element_type\"]\n",
    "    my_team = get_team_name(team_id)\n",
    "    position = get_player_position(element_type)\n",
    "    home_team, away_team, kickoff_time, is_home = get_player_fixture_info(id)\n",
    "    ids.append(id)\n",
    "    names.append(name)\n",
    "    costs.append(cost)\n",
    "    positions.append(position)\n",
    "    my_teams.append(my_team)\n",
    "    home_teams.append(home_team)\n",
    "    away_teams.append(away_team)\n",
    "    kickoff_times.append(kickoff_time)\n",
    "    is_homes.append(is_home)\n",
    "\n",
    "\n",
    "df = pd.DataFrame()\n",
    "df[\"id\"] = ids\n",
    "df[\"name\"] = names\n",
    "df[\"cost\"] = costs\n",
    "df[\"position\"] = positions\n",
    "df[\"home_team\"] = home_teams\n",
    "df[\"away_team\"] = away_teams\n",
    "df[\"kickoff_time\"] = kickoff_times\n",
    "df[\"is_home\"] = is_homes\n",
    "df[\"team_x\"] = my_teams\n",
    "df.to_csv(f\"datasets/2023-24/fixtures/GW{gameweek}.csv\")"
   ]
  },
  {
   "cell_type": "code",
   "execution_count": 7,
   "metadata": {
    "colab": {
     "base_uri": "https://localhost:8080/",
     "height": 423
    },
    "id": "Wm8Y6zlTec8e",
    "outputId": "ed9f0260-3ce8-4fd8-f5f5-7100a135f5de"
   },
   "outputs": [],
   "source": [
    "# df"
   ]
  },
  {
   "cell_type": "code",
   "execution_count": 8,
   "metadata": {
    "colab": {
     "base_uri": "https://localhost:8080/",
     "height": 1000
    },
    "id": "YJtzGvjIShjB",
    "outputId": "92d09145-8734-4d24-c89d-e35b317436ad"
   },
   "outputs": [],
   "source": [
    "# df[df[\"team_x\"]==\"Burnley\"]"
   ]
  },
  {
   "cell_type": "code",
   "execution_count": 9,
   "metadata": {
    "id": "B78Pv07fey9p"
   },
   "outputs": [],
   "source": [
    "# save to folder\n"
   ]
  },
  {
   "cell_type": "code",
   "execution_count": null,
   "metadata": {
    "id": "S-nKBQucSkVe"
   },
   "outputs": [],
   "source": []
  }
 ],
 "metadata": {
  "colab": {
   "authorship_tag": "ABX9TyPxgIyXELy7ClCpJRk2c4O4",
   "include_colab_link": true,
   "mount_file_id": "1O_f4cHPIRnmvGyGsqVCbu8-iwg_tx9Ck",
   "provenance": []
  },
  "kernelspec": {
   "display_name": "Python 3 (ipykernel)",
   "language": "python",
   "name": "python3"
  },
  "language_info": {
   "codemirror_mode": {
    "name": "ipython",
    "version": 3
   },
   "file_extension": ".py",
   "mimetype": "text/x-python",
   "name": "python",
   "nbconvert_exporter": "python",
   "pygments_lexer": "ipython3",
   "version": "3.8.18"
  }
 },
 "nbformat": 4,
 "nbformat_minor": 4
}
